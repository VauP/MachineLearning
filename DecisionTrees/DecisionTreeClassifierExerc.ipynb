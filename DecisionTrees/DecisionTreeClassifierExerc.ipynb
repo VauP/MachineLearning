{
 "metadata": {
  "language_info": {
   "codemirror_mode": {
    "name": "ipython",
    "version": 3
   },
   "file_extension": ".py",
   "mimetype": "text/x-python",
   "name": "python",
   "nbconvert_exporter": "python",
   "pygments_lexer": "ipython3",
   "version": "3.8.10"
  },
  "orig_nbformat": 4,
  "kernelspec": {
   "name": "python3",
   "display_name": "Python 3.8.5 64-bit"
  },
  "interpreter": {
   "hash": "31f2aee4e71d21fbe5cf8b01ff0e069b9275f58929596ceb00d14d90e3e16cd6"
  }
 },
 "nbformat": 4,
 "nbformat_minor": 2,
 "cells": [
  {
   "cell_type": "code",
   "execution_count": 1,
   "metadata": {},
   "outputs": [
    {
     "output_type": "execute_result",
     "data": {
      "text/plain": [
       "   pelvic_incidence  pelvic_tilt numeric  ...  degree_spondylolisthesis     class\n",
       "0         63.027817            22.552586  ...                 -0.254400  Abnormal\n",
       "1         39.056951            10.060991  ...                  4.564259  Abnormal\n",
       "2         68.832021            22.218482  ...                 -3.530317  Abnormal\n",
       "3         69.297008            24.652878  ...                 11.211523  Abnormal\n",
       "4         49.712859             9.652075  ...                  7.918501  Abnormal\n",
       "\n",
       "[5 rows x 7 columns]"
      ],
      "text/html": "<div>\n<style scoped>\n    .dataframe tbody tr th:only-of-type {\n        vertical-align: middle;\n    }\n\n    .dataframe tbody tr th {\n        vertical-align: top;\n    }\n\n    .dataframe thead th {\n        text-align: right;\n    }\n</style>\n<table border=\"1\" class=\"dataframe\">\n  <thead>\n    <tr style=\"text-align: right;\">\n      <th></th>\n      <th>pelvic_incidence</th>\n      <th>pelvic_tilt numeric</th>\n      <th>lumbar_lordosis_angle</th>\n      <th>sacral_slope</th>\n      <th>pelvic_radius</th>\n      <th>degree_spondylolisthesis</th>\n      <th>class</th>\n    </tr>\n  </thead>\n  <tbody>\n    <tr>\n      <th>0</th>\n      <td>63.027817</td>\n      <td>22.552586</td>\n      <td>39.609117</td>\n      <td>40.475232</td>\n      <td>98.672917</td>\n      <td>-0.254400</td>\n      <td>Abnormal</td>\n    </tr>\n    <tr>\n      <th>1</th>\n      <td>39.056951</td>\n      <td>10.060991</td>\n      <td>25.015378</td>\n      <td>28.995960</td>\n      <td>114.405425</td>\n      <td>4.564259</td>\n      <td>Abnormal</td>\n    </tr>\n    <tr>\n      <th>2</th>\n      <td>68.832021</td>\n      <td>22.218482</td>\n      <td>50.092194</td>\n      <td>46.613539</td>\n      <td>105.985135</td>\n      <td>-3.530317</td>\n      <td>Abnormal</td>\n    </tr>\n    <tr>\n      <th>3</th>\n      <td>69.297008</td>\n      <td>24.652878</td>\n      <td>44.311238</td>\n      <td>44.644130</td>\n      <td>101.868495</td>\n      <td>11.211523</td>\n      <td>Abnormal</td>\n    </tr>\n    <tr>\n      <th>4</th>\n      <td>49.712859</td>\n      <td>9.652075</td>\n      <td>28.317406</td>\n      <td>40.060784</td>\n      <td>108.168725</td>\n      <td>7.918501</td>\n      <td>Abnormal</td>\n    </tr>\n  </tbody>\n</table>\n</div>"
     },
     "metadata": {},
     "execution_count": 1
    }
   ],
   "source": [
    "import pandas as pd \n",
    "arquivo = pd.read_csv('/home/stain/Documents/MachineLearning/Datasets/Biomechanical features of orthopedic patients/column_2C_weka.csv')\n",
    "\n",
    "arquivo.head()"
   ]
  },
  {
   "cell_type": "code",
   "execution_count": 13,
   "metadata": {},
   "outputs": [
    {
     "output_type": "execute_result",
     "data": {
      "text/plain": [
       "0      1\n",
       "1      1\n",
       "2      1\n",
       "3      1\n",
       "4      1\n",
       "      ..\n",
       "305    0\n",
       "306    0\n",
       "307    0\n",
       "308    0\n",
       "309    0\n",
       "Name: class, Length: 310, dtype: int64"
      ]
     },
     "metadata": {},
     "execution_count": 13
    }
   ],
   "source": [
    "\n",
    "arquivo['class'] = arquivo['class'].replace(['Abnormal'], 1)\n",
    "arquivo['class'] = arquivo['class'].replace(['Normal'], 0)\n",
    "pd.to_numeric(arquivo['class'])"
   ]
  },
  {
   "cell_type": "code",
   "execution_count": 14,
   "metadata": {},
   "outputs": [
    {
     "output_type": "execute_result",
     "data": {
      "text/plain": [
       "pelvic_incidence            float64\n",
       "pelvic_tilt numeric         float64\n",
       "lumbar_lordosis_angle       float64\n",
       "sacral_slope                float64\n",
       "pelvic_radius               float64\n",
       "degree_spondylolisthesis    float64\n",
       "class                         int64\n",
       "dtype: object"
      ]
     },
     "metadata": {},
     "execution_count": 14
    }
   ],
   "source": [
    "arquivo.dtypes"
   ]
  },
  {
   "cell_type": "code",
   "execution_count": 16,
   "metadata": {},
   "outputs": [
    {
     "output_type": "stream",
     "name": "stdout",
     "text": [
      "pelvic_incidence            0.0\npelvic_tilt numeric         0.0\nlumbar_lordosis_angle       0.0\nsacral_slope                0.0\npelvic_radius               0.0\ndegree_spondylolisthesis    0.0\nclass                       0.0\ndtype: float64\n"
     ]
    }
   ],
   "source": [
    "faltantes = arquivo.isnull().sum()\n",
    "faltantes_percentual = (faltantes / len(arquivo['pelvic_incidence'])) * 100\n",
    "\n",
    "print(faltantes_percentual)"
   ]
  },
  {
   "cell_type": "code",
   "execution_count": 15,
   "metadata": {},
   "outputs": [
    {
     "output_type": "stream",
     "name": "stdout",
     "text": [
      "Min split: 3\nMax prof: 5\nMelhor algoritmo: entropy\nAcurácia: 0.7774193548387097\n"
     ]
    }
   ],
   "source": [
    "import numpy as np\n",
    "from sklearn.tree import DecisionTreeClassifier\n",
    "from sklearn.model_selection import GridSearchCV\n",
    "\n",
    "y = arquivo['class']\n",
    "x = arquivo.drop('class', axis = 1)\n",
    "# Definindo os valores a serem testados\n",
    "\n",
    "min_splits = np.array([2, 3, 4, 5, 7, 8])\n",
    "max_niv = np.array([3, 4, 5, 6, 8])\n",
    "alg = ['gini', 'entropy']\n",
    "valores_grid = {'min_samples_split': min_splits, 'max_depth': max_niv, 'criterion': alg}\n",
    "\n",
    "modelo = DecisionTreeClassifier()\n",
    "\n",
    "gridDecisionTree = GridSearchCV(estimator = modelo, param_grid = valores_grid, cv = 5)\n",
    "gridDecisionTree.fit(x,y)\n",
    "\n",
    "print('Min split:', gridDecisionTree.best_estimator_.min_samples_split)\n",
    "print('Max prof:', gridDecisionTree.best_estimator_.max_depth)\n",
    "print('Melhor algoritmo:', gridDecisionTree.best_estimator_.criterion)\n",
    "print('Acurácia:', gridDecisionTree.best_score_)"
   ]
  }
 ]
}