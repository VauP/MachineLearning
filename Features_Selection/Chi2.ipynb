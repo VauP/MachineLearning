{
 "metadata": {
  "language_info": {
   "codemirror_mode": {
    "name": "ipython",
    "version": 3
   },
   "file_extension": ".py",
   "mimetype": "text/x-python",
   "name": "python",
   "nbconvert_exporter": "python",
   "pygments_lexer": "ipython3",
   "version": "3.8.10"
  },
  "orig_nbformat": 4,
  "kernelspec": {
   "name": "python3",
   "display_name": "Python 3.8.10 64-bit"
  },
  "interpreter": {
   "hash": "31f2aee4e71d21fbe5cf8b01ff0e069b9275f58929596ceb00d14d90e3e16cd6"
  }
 },
 "nbformat": 4,
 "nbformat_minor": 2,
 "cells": [
  {
   "cell_type": "code",
   "execution_count": 1,
   "metadata": {},
   "outputs": [
    {
     "output_type": "execute_result",
     "data": {
      "text/plain": [
       "  sepal length (cm) sepal width (cm) petal length (cm) petal width (cm)\n",
       "0               5.1              3.5               1.4              0.2\n",
       "1               4.9              3.0               1.4              0.2\n",
       "2               4.7              3.2               1.3              0.2\n",
       "3               4.6              3.1               1.5              0.2\n",
       "4               5.0              3.6               1.4              0.2"
      ],
      "text/html": "<div>\n<style scoped>\n    .dataframe tbody tr th:only-of-type {\n        vertical-align: middle;\n    }\n\n    .dataframe tbody tr th {\n        vertical-align: top;\n    }\n\n    .dataframe thead tr th {\n        text-align: left;\n    }\n</style>\n<table border=\"1\" class=\"dataframe\">\n  <thead>\n    <tr>\n      <th></th>\n      <th>sepal length (cm)</th>\n      <th>sepal width (cm)</th>\n      <th>petal length (cm)</th>\n      <th>petal width (cm)</th>\n    </tr>\n  </thead>\n  <tbody>\n    <tr>\n      <th>0</th>\n      <td>5.1</td>\n      <td>3.5</td>\n      <td>1.4</td>\n      <td>0.2</td>\n    </tr>\n    <tr>\n      <th>1</th>\n      <td>4.9</td>\n      <td>3.0</td>\n      <td>1.4</td>\n      <td>0.2</td>\n    </tr>\n    <tr>\n      <th>2</th>\n      <td>4.7</td>\n      <td>3.2</td>\n      <td>1.3</td>\n      <td>0.2</td>\n    </tr>\n    <tr>\n      <th>3</th>\n      <td>4.6</td>\n      <td>3.1</td>\n      <td>1.5</td>\n      <td>0.2</td>\n    </tr>\n    <tr>\n      <th>4</th>\n      <td>5.0</td>\n      <td>3.6</td>\n      <td>1.4</td>\n      <td>0.2</td>\n    </tr>\n  </tbody>\n</table>\n</div>"
     },
     "metadata": {},
     "execution_count": 1
    }
   ],
   "source": [
    "from sklearn.datasets import load_iris \n",
    "import pandas as pd\n",
    "iris = load_iris()\n",
    "x = pd.DataFrame(iris.data, columns = [iris.feature_names])\n",
    "y = pd.Series(iris.target)\n",
    "\n",
    "x.head()"
   ]
  },
  {
   "cell_type": "code",
   "execution_count": 9,
   "metadata": {},
   "outputs": [
    {
     "output_type": "stream",
     "name": "stdout",
     "text": [
      "Scores: [ 10.81782088   3.7107283  116.31261309  67.0483602 ]\n\nResultado da requisição:\n [[1.4 0.2]\n [1.4 0.2]\n [1.3 0.2]\n [1.5 0.2]\n [1.4 0.2]\n [1.7 0.4]\n [1.4 0.3]\n [1.5 0.2]\n [1.4 0.2]\n [1.5 0.1]\n [1.5 0.2]\n [1.6 0.2]\n [1.4 0.1]\n [1.1 0.1]\n [1.2 0.2]\n [1.5 0.4]\n [1.3 0.4]\n [1.4 0.3]\n [1.7 0.3]\n [1.5 0.3]\n [1.7 0.2]\n [1.5 0.4]\n [1.  0.2]\n [1.7 0.5]\n [1.9 0.2]\n [1.6 0.2]\n [1.6 0.4]\n [1.5 0.2]\n [1.4 0.2]\n [1.6 0.2]\n [1.6 0.2]\n [1.5 0.4]\n [1.5 0.1]\n [1.4 0.2]\n [1.5 0.2]\n [1.2 0.2]\n [1.3 0.2]\n [1.4 0.1]\n [1.3 0.2]\n [1.5 0.2]\n [1.3 0.3]\n [1.3 0.3]\n [1.3 0.2]\n [1.6 0.6]\n [1.9 0.4]\n [1.4 0.3]\n [1.6 0.2]\n [1.4 0.2]\n [1.5 0.2]\n [1.4 0.2]\n [4.7 1.4]\n [4.5 1.5]\n [4.9 1.5]\n [4.  1.3]\n [4.6 1.5]\n [4.5 1.3]\n [4.7 1.6]\n [3.3 1. ]\n [4.6 1.3]\n [3.9 1.4]\n [3.5 1. ]\n [4.2 1.5]\n [4.  1. ]\n [4.7 1.4]\n [3.6 1.3]\n [4.4 1.4]\n [4.5 1.5]\n [4.1 1. ]\n [4.5 1.5]\n [3.9 1.1]\n [4.8 1.8]\n [4.  1.3]\n [4.9 1.5]\n [4.7 1.2]\n [4.3 1.3]\n [4.4 1.4]\n [4.8 1.4]\n [5.  1.7]\n [4.5 1.5]\n [3.5 1. ]\n [3.8 1.1]\n [3.7 1. ]\n [3.9 1.2]\n [5.1 1.6]\n [4.5 1.5]\n [4.5 1.6]\n [4.7 1.5]\n [4.4 1.3]\n [4.1 1.3]\n [4.  1.3]\n [4.4 1.2]\n [4.6 1.4]\n [4.  1.2]\n [3.3 1. ]\n [4.2 1.3]\n [4.2 1.2]\n [4.2 1.3]\n [4.3 1.3]\n [3.  1.1]\n [4.1 1.3]\n [6.  2.5]\n [5.1 1.9]\n [5.9 2.1]\n [5.6 1.8]\n [5.8 2.2]\n [6.6 2.1]\n [4.5 1.7]\n [6.3 1.8]\n [5.8 1.8]\n [6.1 2.5]\n [5.1 2. ]\n [5.3 1.9]\n [5.5 2.1]\n [5.  2. ]\n [5.1 2.4]\n [5.3 2.3]\n [5.5 1.8]\n [6.7 2.2]\n [6.9 2.3]\n [5.  1.5]\n [5.7 2.3]\n [4.9 2. ]\n [6.7 2. ]\n [4.9 1.8]\n [5.7 2.1]\n [6.  1.8]\n [4.8 1.8]\n [4.9 1.8]\n [5.6 2.1]\n [5.8 1.6]\n [6.1 1.9]\n [6.4 2. ]\n [5.6 2.2]\n [5.1 1.5]\n [5.6 1.4]\n [6.1 2.3]\n [5.6 2.4]\n [5.5 1.8]\n [4.8 1.8]\n [5.4 2.1]\n [5.6 2.4]\n [5.1 2.3]\n [5.1 1.9]\n [5.9 2.3]\n [5.7 2.5]\n [5.2 2.3]\n [5.  1.9]\n [5.2 2. ]\n [5.4 2.3]\n [5.1 1.8]]\n"
     ]
    }
   ],
   "source": [
    "from sklearn.feature_selection import SelectKBest, chi2\n",
    "\n",
    "algoritmo = SelectKBest(score_func = chi2, k = 2)\n",
    "dados = algoritmo.fit_transform(x, y)\n",
    "print('Scores:', algoritmo.scores_)\n",
    "print('\\nResultado da requisição:\\n', dados)"
   ]
  }
 ]
}