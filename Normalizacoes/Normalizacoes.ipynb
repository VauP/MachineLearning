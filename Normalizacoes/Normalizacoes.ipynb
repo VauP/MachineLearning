{
 "cells": [
  {
   "cell_type": "code",
   "execution_count": 1,
   "id": "e7ea7846",
   "metadata": {},
   "outputs": [
    {
     "name": "stdout",
     "output_type": "stream",
     "text": [
      "[[0.75       0.         0.         0.5       ]\n",
      " [0.         0.33333333 1.         1.        ]\n",
      " [1.         1.         0.42857143 0.        ]]\n"
     ]
    }
   ],
   "source": [
    "from sklearn.preprocessing import MinMaxScaler\n",
    "X = [[4, 1, 2, 2], [1, 3, 9, 3], [5, 7, 5, 1]]\n",
    "normalizador = MinMaxScaler(feature_range = (0,1))\n",
    "print(normalizador.fit_transform(X))"
   ]
  },
  {
   "cell_type": "code",
   "execution_count": 2,
   "id": "374beb9f",
   "metadata": {},
   "outputs": [
    {
     "name": "stdout",
     "output_type": "stream",
     "text": [
      "[[ 0.39223227 -1.06904497 -1.16247639  0.        ]\n",
      " [-1.37281295 -0.26726124  1.27872403  1.22474487]\n",
      " [ 0.98058068  1.33630621 -0.11624764 -1.22474487]]\n"
     ]
    }
   ],
   "source": [
    "from sklearn.preprocessing import StandardScaler\n",
    "X = [[4, 1, 2, 2], [1, 3, 9, 3], [5, 7, 5, 1]]\n",
    "normalizador = StandardScaler()\n",
    "print(normalizador.fit_transform(X))"
   ]
  },
  {
   "cell_type": "code",
   "execution_count": 3,
   "id": "2bbc34ee",
   "metadata": {},
   "outputs": [
    {
     "name": "stdout",
     "output_type": "stream",
     "text": [
      "[[0.8        0.14285714 0.22222222 0.66666667]\n",
      " [0.2        0.42857143 1.         1.        ]\n",
      " [1.         1.         0.55555556 0.33333333]]\n"
     ]
    }
   ],
   "source": [
    "from sklearn.preprocessing import MaxAbsScaler\n",
    "X = [[4, 1, 2, 2], [1, 3, 9, 3], [5, 7, 5, 1]]\n",
    "normalizador = MaxAbsScaler()\n",
    "print(normalizador.fit_transform(X))"
   ]
  },
  {
   "cell_type": "code",
   "execution_count": 4,
   "id": "0bcda70b",
   "metadata": {},
   "outputs": [
    {
     "name": "stdout",
     "output_type": "stream",
     "text": [
      "[[0.8        0.14285714 0.22222222 0.66666667]\n",
      " [0.2        0.42857143 1.         1.        ]\n",
      " [1.         1.         0.55555556 0.33333333]]\n"
     ]
    }
   ],
   "source": [
    "from sklearn.preprocessing import normalize\n",
    "X = [[4, 1, 2, 2], [1, 3, 9, 3], [5, 7, 5, 1]]\n",
    "normalizador = normalize(X, norm = 'max', axis = 0)\n",
    "print(normalizador)"
   ]
  }
 ],
 "metadata": {
  "kernelspec": {
   "display_name": "Python 3.8.5 64-bit",
   "language": "python",
   "name": "python385jvsc74a57bd031f2aee4e71d21fbe5cf8b01ff0e069b9275f58929596ceb00d14d90e3e16cd6"
  },
  "language_info": {
   "codemirror_mode": {
    "name": "ipython",
    "version": 3
   },
   "file_extension": ".py",
   "mimetype": "text/x-python",
   "name": "python",
   "nbconvert_exporter": "python",
   "pygments_lexer": "ipython3",
   "version": "3.8.10"
  }
 },
 "nbformat": 4,
 "nbformat_minor": 5
}
