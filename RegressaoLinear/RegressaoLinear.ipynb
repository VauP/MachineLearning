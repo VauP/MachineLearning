{
 "cells": [
  {
   "cell_type": "code",
   "execution_count": 2,
   "id": "45c65d32",
   "metadata": {},
   "outputs": [
    {
     "data": {
      "image/png": "[encoded data removed]",
      "text/plain": [
       "<Figure size 432x288 with 1 Axes>"
      ]
     },
     "metadata": {
      "needs_background": "light"
     },
     "output_type": "display_data"
    }
   ],
   "source": [
    "from sklearn.datasets import make_regression # bibilioteca para trabalhar com regressão linear\n",
    "import matplotlib.pyplot as plt # biblioteca para trabalhar com graficos\n",
    "\n",
    "# n_samples = quantos dados quero que a função gere, n_features = quantidade de variaveis\n",
    "# noise= quanto ruído eu quero (variacao dos pontos) \n",
    "x, y = make_regression(n_samples = 200, n_features = 1, noise = 30)\n",
    "# x e y são arrays de valores no gráfico (x,y)\n",
    "\n",
    "plt.scatter(x,y)\n",
    "plt.show()"
   ]
  },
  {
   "cell_type": "code",
   "execution_count": 30,
   "id": "c27a1123",
   "metadata": {},
   "outputs": [],
   "source": [
    "from sklearn.linear_model import LinearRegression \n",
    "\n",
    "# em Python se instancia a função na variável para poder usar as sub-funções dela.\n",
    "modelo = LinearRegression()\n"
   ]
  },
  {
   "cell_type": "code",
   "execution_count": 31,
   "id": "60724f49",
   "metadata": {},
   "outputs": [
    {
     "data": {
      "text/plain": [
       "LinearRegression()"
      ]
     },
     "execution_count": 31,
     "metadata": {},
     "output_type": "execute_result"
    }
   ],
   "source": [
    "# informo as variáveis e a função vai saber qual valores vai armazenar para fazer a reta. realiza a func de custo\n",
    "modelo.fit(x,y)"
   ]
  },
  {
   "cell_type": "markdown",
   "id": "65dbdd78",
   "metadata": {},
   "source": [
    "$custo = \\sum_{i=1}^n (reg^i - y^i) ^2$"
   ]
  },
  {
   "cell_type": "code",
   "execution_count": 32,
   "id": "8713aa77",
   "metadata": {},
   "outputs": [
    {
     "data": {
      "text/plain": [
       "-0.4247620198903146"
      ]
     },
     "execution_count": 32,
     "metadata": {},
     "output_type": "execute_result"
    }
   ],
   "source": [
    "# para a equação de reta y = mx + b, onde m é o coef angular e b o linear, a função intercept calculará \n",
    "# o coef linear, dado pela func acima\n",
    "modelo.intercept_"
   ]
  },
  {
   "cell_type": "markdown",
   "id": "298b2e7f",
   "metadata": {},
   "source": [
    "$m = m - \\theta * \\frac{\\partial \\sum_{i=1}^n (reg^i - y^i) ^2} {\\partial m}$"
   ]
  },
  {
   "cell_type": "code",
   "execution_count": 33,
   "id": "c0a6dca2",
   "metadata": {},
   "outputs": [
    {
     "data": {
      "text/plain": [
       "array([90.14806496])"
      ]
     },
     "execution_count": 33,
     "metadata": {},
     "output_type": "execute_result"
    }
   ],
   "source": [
    "# a funcão coef calculará o coeficiente angular.\n",
    "# o valor retornado é do tipo array, pois pode ter mais de um coef angular. m = m - constante\n",
    "modelo.coef_"
   ]
  },
  {
   "cell_type": "code",
   "execution_count": 34,
   "id": "3068048e",
   "metadata": {
    "scrolled": true
   },
   "outputs": [
    {
     "data": {
      "image/png": "[encoded data removed]",
      "text/plain": [
       "<Figure size 432x288 with 1 Axes>"
      ]
     },
     "metadata": {
      "needs_background": "light"
     },
     "output_type": "display_data"
    }
   ],
   "source": [
    "# mostrando o resultado\n",
    "import numpy as np\n",
    "# primeiro scatter (espalhar) os dados \n",
    "plt.scatter(x, y)\n",
    "\n",
    "# intervalo, de -3 a 3 variando de 1 em 1\n",
    "xreg = np.arange(-3, 3, 1)\n",
    "# xreg = eixo horizontal, e o segundo parametro é a função\n",
    "plt.plot(xreg, modelo.coef_ * xreg - modelo.intercept_, color = 'red') # gráfico da regressão\n",
    "plt.show()\n",
    "\n",
    "# a reta vermelha representa o resultado da regressão, para termos uma noção do quão bom está nossa reta"
   ]
  },
  {
   "cell_type": "code",
   "execution_count": 35,
   "id": "91a55686",
   "metadata": {},
   "outputs": [],
   "source": [
    "from sklearn.model_selection import train_test_split # biblioteca para fazer casos de treino e teste\n",
    "# com a func train_text_split, passamos nossos dados(x,y) e o test_size sendo a porcentagem que queremos como teste\n",
    "# ou seja, 30% dos dados será para o teste e 70% para o treino.\n",
    "# essa func retorna 4 saidas, em ordem, x treino, x teste, y treino e y teste\n",
    "x_treino, x_teste, y_treino, y_teste = train_test_split(x,y, test_size = 0.3)"
   ]
  },
  {
   "cell_type": "code",
   "execution_count": 36,
   "id": "f6683cf4",
   "metadata": {},
   "outputs": [
    {
     "data": {
      "text/plain": [
       "LinearRegression()"
      ]
     },
     "execution_count": 36,
     "metadata": {},
     "output_type": "execute_result"
    }
   ],
   "source": [
    "# armazenando esses valores no modelo\n",
    "modelo.fit(x_treino, y_treino)"
   ]
  },
  {
   "cell_type": "code",
   "execution_count": 37,
   "id": "d1fad8ab",
   "metadata": {},
   "outputs": [],
   "source": [
    "# o metodo score retorna o coef de determinação r2, ou seja o coef para os dados de teste em cima do treino\n",
    "resultado = modelo.score(x_teste, y_teste)"
   ]
  },
  {
   "cell_type": "code",
   "execution_count": 38,
   "id": "70bed9b5",
   "metadata": {},
   "outputs": [
    {
     "name": "stdout",
     "output_type": "stream",
     "text": [
      "0.8949685525527018\n"
     ]
    }
   ],
   "source": [
    "# 1 é perfeito\n",
    "print(resultado)"
   ]
  },
  {
   "cell_type": "code",
   "execution_count": null,
   "id": "ac504507",
   "metadata": {},
   "outputs": [],
   "source": []
  },
  {
   "cell_type": "code",
   "execution_count": null,
   "id": "c8a7806e",
   "metadata": {},
   "outputs": [],
   "source": []
  }
 ],
 "metadata": {
  "kernelspec": {
   "display_name": "Python 3",
   "language": "python",
   "name": "python3"
  },
  "language_info": {
   "codemirror_mode": {
    "name": "ipython",
    "version": 3
   },
   "file_extension": ".py",
   "mimetype": "text/x-python",
   "name": "python",
   "nbconvert_exporter": "python",
   "pygments_lexer": "ipython3",
   "version": "3.8.5"
  }
 },
 "nbformat": 4,
 "nbformat_minor": 5
}
