{
 "metadata": {
  "language_info": {
   "codemirror_mode": {
    "name": "ipython",
    "version": 3
   },
   "file_extension": ".py",
   "mimetype": "text/x-python",
   "name": "python",
   "nbconvert_exporter": "python",
   "pygments_lexer": "ipython3",
   "version": "3.8.10"
  },
  "orig_nbformat": 4,
  "kernelspec": {
   "name": "python3",
   "display_name": "Python 3.8.10 64-bit"
  },
  "interpreter": {
   "hash": "31f2aee4e71d21fbe5cf8b01ff0e069b9275f58929596ceb00d14d90e3e16cd6"
  }
 },
 "nbformat": 4,
 "nbformat_minor": 2,
 "cells": [
  {
   "cell_type": "code",
   "execution_count": 1,
   "metadata": {},
   "outputs": [
    {
     "output_type": "execute_result",
     "data": {
      "text/plain": [
       "  cap-shape cap-surface cap-color  bruises    odor gill-attachment  \\\n",
       "0    CONVEX      SMOOTH     WHITE  BRUISES  ALMOND            FREE   \n",
       "1    CONVEX      SMOOTH     WHITE  BRUISES  ALMOND            FREE   \n",
       "2    CONVEX      SMOOTH     WHITE  BRUISES  ALMOND            FREE   \n",
       "3    CONVEX      SMOOTH     WHITE  BRUISES  ALMOND            FREE   \n",
       "4    CONVEX      SMOOTH     WHITE  BRUISES  ALMOND            FREE   \n",
       "\n",
       "  gill-spacing gill-size gill-color stalk-shape stalk-root  \\\n",
       "0      CROWDED    NARROW      WHITE    TAPERING    BULBOUS   \n",
       "1      CROWDED    NARROW      WHITE    TAPERING    BULBOUS   \n",
       "2      CROWDED    NARROW       PINK    TAPERING    BULBOUS   \n",
       "3      CROWDED    NARROW       PINK    TAPERING    BULBOUS   \n",
       "4      CROWDED    NARROW      BROWN    TAPERING    BULBOUS   \n",
       "\n",
       "  stalk-surface-above-ring stalk-surface-below-ring stalk-color-above-ring  \\\n",
       "0                   SMOOTH                   SMOOTH                  WHITE   \n",
       "1                   SMOOTH                   SMOOTH                  WHITE   \n",
       "2                   SMOOTH                   SMOOTH                  WHITE   \n",
       "3                   SMOOTH                   SMOOTH                  WHITE   \n",
       "4                   SMOOTH                   SMOOTH                  WHITE   \n",
       "\n",
       "  stalk-color-below-ring veil-type veil-color ring-number ring-type  \\\n",
       "0                  WHITE   PARTIAL      WHITE         ONE   PENDANT   \n",
       "1                  WHITE   PARTIAL      WHITE         ONE   PENDANT   \n",
       "2                  WHITE   PARTIAL      WHITE         ONE   PENDANT   \n",
       "3                  WHITE   PARTIAL      WHITE         ONE   PENDANT   \n",
       "4                  WHITE   PARTIAL      WHITE         ONE   PENDANT   \n",
       "\n",
       "  spore-print-color population habitat mushroom  \n",
       "0            PURPLE    SEVERAL   WOODS   EDIBLE  \n",
       "1             BROWN    SEVERAL   WOODS   EDIBLE  \n",
       "2            PURPLE    SEVERAL   WOODS   EDIBLE  \n",
       "3             BROWN    SEVERAL   WOODS   EDIBLE  \n",
       "4            PURPLE    SEVERAL   WOODS   EDIBLE  "
      ],
      "text/html": "<div>\n<style scoped>\n    .dataframe tbody tr th:only-of-type {\n        vertical-align: middle;\n    }\n\n    .dataframe tbody tr th {\n        vertical-align: top;\n    }\n\n    .dataframe thead th {\n        text-align: right;\n    }\n</style>\n<table border=\"1\" class=\"dataframe\">\n  <thead>\n    <tr style=\"text-align: right;\">\n      <th></th>\n      <th>cap-shape</th>\n      <th>cap-surface</th>\n      <th>cap-color</th>\n      <th>bruises</th>\n      <th>odor</th>\n      <th>gill-attachment</th>\n      <th>gill-spacing</th>\n      <th>gill-size</th>\n      <th>gill-color</th>\n      <th>stalk-shape</th>\n      <th>stalk-root</th>\n      <th>stalk-surface-above-ring</th>\n      <th>stalk-surface-below-ring</th>\n      <th>stalk-color-above-ring</th>\n      <th>stalk-color-below-ring</th>\n      <th>veil-type</th>\n      <th>veil-color</th>\n      <th>ring-number</th>\n      <th>ring-type</th>\n      <th>spore-print-color</th>\n      <th>population</th>\n      <th>habitat</th>\n      <th>mushroom</th>\n    </tr>\n  </thead>\n  <tbody>\n    <tr>\n      <th>0</th>\n      <td>CONVEX</td>\n      <td>SMOOTH</td>\n      <td>WHITE</td>\n      <td>BRUISES</td>\n      <td>ALMOND</td>\n      <td>FREE</td>\n      <td>CROWDED</td>\n      <td>NARROW</td>\n      <td>WHITE</td>\n      <td>TAPERING</td>\n      <td>BULBOUS</td>\n      <td>SMOOTH</td>\n      <td>SMOOTH</td>\n      <td>WHITE</td>\n      <td>WHITE</td>\n      <td>PARTIAL</td>\n      <td>WHITE</td>\n      <td>ONE</td>\n      <td>PENDANT</td>\n      <td>PURPLE</td>\n      <td>SEVERAL</td>\n      <td>WOODS</td>\n      <td>EDIBLE</td>\n    </tr>\n    <tr>\n      <th>1</th>\n      <td>CONVEX</td>\n      <td>SMOOTH</td>\n      <td>WHITE</td>\n      <td>BRUISES</td>\n      <td>ALMOND</td>\n      <td>FREE</td>\n      <td>CROWDED</td>\n      <td>NARROW</td>\n      <td>WHITE</td>\n      <td>TAPERING</td>\n      <td>BULBOUS</td>\n      <td>SMOOTH</td>\n      <td>SMOOTH</td>\n      <td>WHITE</td>\n      <td>WHITE</td>\n      <td>PARTIAL</td>\n      <td>WHITE</td>\n      <td>ONE</td>\n      <td>PENDANT</td>\n      <td>BROWN</td>\n      <td>SEVERAL</td>\n      <td>WOODS</td>\n      <td>EDIBLE</td>\n    </tr>\n    <tr>\n      <th>2</th>\n      <td>CONVEX</td>\n      <td>SMOOTH</td>\n      <td>WHITE</td>\n      <td>BRUISES</td>\n      <td>ALMOND</td>\n      <td>FREE</td>\n      <td>CROWDED</td>\n      <td>NARROW</td>\n      <td>PINK</td>\n      <td>TAPERING</td>\n      <td>BULBOUS</td>\n      <td>SMOOTH</td>\n      <td>SMOOTH</td>\n      <td>WHITE</td>\n      <td>WHITE</td>\n      <td>PARTIAL</td>\n      <td>WHITE</td>\n      <td>ONE</td>\n      <td>PENDANT</td>\n      <td>PURPLE</td>\n      <td>SEVERAL</td>\n      <td>WOODS</td>\n      <td>EDIBLE</td>\n    </tr>\n    <tr>\n      <th>3</th>\n      <td>CONVEX</td>\n      <td>SMOOTH</td>\n      <td>WHITE</td>\n      <td>BRUISES</td>\n      <td>ALMOND</td>\n      <td>FREE</td>\n      <td>CROWDED</td>\n      <td>NARROW</td>\n      <td>PINK</td>\n      <td>TAPERING</td>\n      <td>BULBOUS</td>\n      <td>SMOOTH</td>\n      <td>SMOOTH</td>\n      <td>WHITE</td>\n      <td>WHITE</td>\n      <td>PARTIAL</td>\n      <td>WHITE</td>\n      <td>ONE</td>\n      <td>PENDANT</td>\n      <td>BROWN</td>\n      <td>SEVERAL</td>\n      <td>WOODS</td>\n      <td>EDIBLE</td>\n    </tr>\n    <tr>\n      <th>4</th>\n      <td>CONVEX</td>\n      <td>SMOOTH</td>\n      <td>WHITE</td>\n      <td>BRUISES</td>\n      <td>ALMOND</td>\n      <td>FREE</td>\n      <td>CROWDED</td>\n      <td>NARROW</td>\n      <td>BROWN</td>\n      <td>TAPERING</td>\n      <td>BULBOUS</td>\n      <td>SMOOTH</td>\n      <td>SMOOTH</td>\n      <td>WHITE</td>\n      <td>WHITE</td>\n      <td>PARTIAL</td>\n      <td>WHITE</td>\n      <td>ONE</td>\n      <td>PENDANT</td>\n      <td>PURPLE</td>\n      <td>SEVERAL</td>\n      <td>WOODS</td>\n      <td>EDIBLE</td>\n    </tr>\n  </tbody>\n</table>\n</div>"
     },
     "metadata": {},
     "execution_count": 1
    }
   ],
   "source": [
    "\n",
    "import pandas as pd\n",
    "pd.set_option('display.max_columns', 30)\n",
    "dados = pd.read_csv('/home/stain/Documents/MachineLearning/Datasets/Mushroom/mushroom_dataset.csv')\n",
    "\n",
    "dados.head()"
   ]
  },
  {
   "cell_type": "code",
   "execution_count": 2,
   "metadata": {},
   "outputs": [
    {
     "output_type": "execute_result",
     "data": {
      "text/plain": [
       "cap-shape                   object\n",
       "cap-surface                 object\n",
       "cap-color                   object\n",
       "bruises                     object\n",
       "odor                        object\n",
       "gill-attachment             object\n",
       "gill-spacing                object\n",
       "gill-size                   object\n",
       "gill-color                  object\n",
       "stalk-shape                 object\n",
       "stalk-root                  object\n",
       "stalk-surface-above-ring    object\n",
       "stalk-surface-below-ring    object\n",
       "stalk-color-above-ring      object\n",
       "stalk-color-below-ring      object\n",
       "veil-type                   object\n",
       "veil-color                  object\n",
       "ring-number                 object\n",
       "ring-type                   object\n",
       "spore-print-color           object\n",
       "population                  object\n",
       "habitat                     object\n",
       "mushroom                    object\n",
       "dtype: object"
      ]
     },
     "metadata": {},
     "execution_count": 2
    }
   ],
   "source": [
    "dados.dtypes"
   ]
  },
  {
   "cell_type": "code",
   "execution_count": 3,
   "metadata": {},
   "outputs": [
    {
     "output_type": "stream",
     "name": "stdout",
     "text": [
      "cap-shape                   0.0\ncap-surface                 0.0\ncap-color                   0.0\nbruises                     0.0\nodor                        0.0\ngill-attachment             0.0\ngill-spacing                0.0\ngill-size                   0.0\ngill-color                  0.0\nstalk-shape                 0.0\nstalk-root                  0.0\nstalk-surface-above-ring    0.0\nstalk-surface-below-ring    0.0\nstalk-color-above-ring      0.0\nstalk-color-below-ring      0.0\nveil-type                   0.0\nveil-color                  0.0\nring-number                 0.0\nring-type                   0.0\nspore-print-color           0.0\npopulation                  0.0\nhabitat                     0.0\nmushroom                    0.0\ndtype: float64\n"
     ]
    }
   ],
   "source": [
    "faltantes = dados.isna().sum()\n",
    "print((faltantes/len(dados) * 100))"
   ]
  },
  {
   "cell_type": "code",
   "execution_count": 4,
   "metadata": {},
   "outputs": [
    {
     "output_type": "execute_result",
     "data": {
      "text/plain": [
       "[CONVEX     3796\n",
       " FLAT       3292\n",
       " KNOBBED     840\n",
       " BELL        452\n",
       " SUNKEN       32\n",
       " CONICAL       4\n",
       " Name: cap-shape, dtype: int64,\n",
       " SCALY      3268\n",
       " SMOOTH     2684\n",
       " FIBROUS    2460\n",
       " GROOVES       4\n",
       " Name: cap-surface, dtype: int64,\n",
       " BROWN       2320\n",
       " GRAY        2096\n",
       " RED         1500\n",
       " YELLOW      1072\n",
       " WHITE       1040\n",
       " BUFF         168\n",
       " PINK         144\n",
       " CINNAMON      44\n",
       " PURPLE        16\n",
       " GREEN         16\n",
       " Name: cap-color, dtype: int64,\n",
       " NO         5040\n",
       " BRUISES    3376\n",
       " Name: bruises, dtype: int64,\n",
       " NONE        3808\n",
       " FOUL        2160\n",
       " FISHY        576\n",
       " SPICY        576\n",
       " ANISE        400\n",
       " ALMOND       400\n",
       " PUNGENT      256\n",
       " CREOSOTE     192\n",
       " MUSTY         48\n",
       " Name: odor, dtype: int64,\n",
       " FREE        8200\n",
       " ATTACHED     216\n",
       " Name: gill-attachment, dtype: int64,\n",
       " CLOSE      6824\n",
       " CROWDED    1592\n",
       " Name: gill-spacing, dtype: int64,\n",
       " BROAD     5880\n",
       " NARROW    2536\n",
       " Name: gill-size, dtype: int64,\n",
       " BUFF         1728\n",
       " PINK         1556\n",
       " WHITE        1232\n",
       " BROWN        1112\n",
       " CHOCOLATE     796\n",
       " GRAY          752\n",
       " PURPLE        492\n",
       " BLACK         472\n",
       " RED            96\n",
       " YELLOW         92\n",
       " ORANGE         64\n",
       " GREEN          24\n",
       " Name: gill-color, dtype: int64,\n",
       " TAPERING     4864\n",
       " ENLARGING    3552\n",
       " Name: stalk-shape, dtype: int64,\n",
       " BULBOUS    3800\n",
       " ?          2480\n",
       " EQUAL      1376\n",
       " CLUB        568\n",
       " ROOTED      192\n",
       " Name: stalk-root, dtype: int64,\n",
       " SMOOTH     5316\n",
       " SILKY      2384\n",
       " FIBROUS     692\n",
       " SCALY        24\n",
       " Name: stalk-surface-above-ring, dtype: int64,\n",
       " SMOOTH     5076\n",
       " SILKY      2304\n",
       " FIBROUS     740\n",
       " SCALY       296\n",
       " Name: stalk-surface-below-ring, dtype: int64,\n",
       " WHITE       4744\n",
       " PINK        1872\n",
       " GRAY         576\n",
       " BROWN        448\n",
       " BUFF         432\n",
       " ORANGE       192\n",
       " RED           96\n",
       " CINNAMON      48\n",
       " YELLOW         8\n",
       " Name: stalk-color-above-ring, dtype: int64,\n",
       " WHITE       4640\n",
       " PINK        1872\n",
       " GRAY         576\n",
       " BROWN        536\n",
       " BUFF         432\n",
       " ORANGE       192\n",
       " RED           96\n",
       " CINNAMON      48\n",
       " YELLOW        24\n",
       " Name: stalk-color-below-ring, dtype: int64,\n",
       " PARTIAL    8416\n",
       " Name: veil-type, dtype: int64,\n",
       " WHITE     8216\n",
       " BROWN       96\n",
       " ORANGE      96\n",
       " YELLOW       8\n",
       " Name: veil-color, dtype: int64,\n",
       " ONE     7768\n",
       " TWO      600\n",
       " NONE      48\n",
       " Name: ring-number, dtype: int64,\n",
       " PENDANT       3968\n",
       " EVANESCENT    3056\n",
       " LARGE         1296\n",
       " NONE            48\n",
       " FLARING         48\n",
       " Name: ring-type, dtype: int64,\n",
       " WHITE        2424\n",
       " BROWN        2096\n",
       " BLACK        2000\n",
       " CHOCOLATE    1632\n",
       " GREEN          72\n",
       " PURPLE         48\n",
       " BUFF           48\n",
       " YELLOW         48\n",
       " ORANGE         48\n",
       " Name: spore-print-color, dtype: int64,\n",
       " SEVERAL      4064\n",
       " SOLITARY     1712\n",
       " SCATTERED    1376\n",
       " ABUNDANT      512\n",
       " NUMEROUS      400\n",
       " CLUSTERED     352\n",
       " Name: population, dtype: int64,\n",
       " WOODS      3160\n",
       " GRASSES    2404\n",
       " PATHS      1144\n",
       " LEAVES      856\n",
       " URBAN       368\n",
       " MEADOWS     292\n",
       " WASTE       192\n",
       " Name: habitat, dtype: int64,\n",
       " EDIBLE       4488\n",
       " POISONOUS    3928\n",
       " Name: mushroom, dtype: int64]"
      ]
     },
     "metadata": {},
     "execution_count": 4
    }
   ],
   "source": [
    "[dados[c].value_counts() for c in list(dados.columns)]"
   ]
  },
  {
   "cell_type": "code",
   "execution_count": 5,
   "metadata": {},
   "outputs": [],
   "source": [
    "x = dados.drop('mushroom', axis = 1)\n",
    "y = dados['mushroom']"
   ]
  },
  {
   "cell_type": "code",
   "execution_count": 6,
   "metadata": {},
   "outputs": [],
   "source": [
    "x_encoding = pd.get_dummies(x)"
   ]
  },
  {
   "cell_type": "code",
   "execution_count": 7,
   "metadata": {},
   "outputs": [],
   "source": [
    "y = y.replace('EDIBLE', 0)\n",
    "y = y.replace('POISONOUS', 1)"
   ]
  },
  {
   "cell_type": "code",
   "execution_count": 8,
   "metadata": {},
   "outputs": [
    {
     "output_type": "stream",
     "name": "stdout",
     "text": [
      "1.0\n"
     ]
    }
   ],
   "source": [
    "from sklearn.ensemble import ExtraTreesClassifier\n",
    "from sklearn.model_selection import StratifiedKFold, cross_val_score\n",
    "\n",
    "modelo = ExtraTreesClassifier(n_estimators = 200, n_jobs = -1)\n",
    "skfold = StratifiedKFold(n_splits=3, shuffle=True)\n",
    "\n",
    "resultado = cross_val_score(modelo, x_encoding, y, cv = skfold, n_jobs = -1)\n",
    "print(resultado.mean())"
   ]
  }
 ]
}