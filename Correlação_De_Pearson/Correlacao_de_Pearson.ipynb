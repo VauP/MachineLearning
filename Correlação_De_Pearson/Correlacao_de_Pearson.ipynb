{
 "cells": [
  {
   "cell_type": "code",
   "execution_count": null,
   "id": "5f31e174",
   "metadata": {},
   "outputs": [],
   "source": [
    "# Conseguimos o valor da correlação usando a seguinte fórmula:\n",
    "# *Vale lembrar que o valor varia entre -1 e 1"
   ]
  },
  {
   "cell_type": "markdown",
   "id": "b4c9239c",
   "metadata": {},
   "source": [
    "${\\displaystyle \\rho ={\\frac {\\sum _{i=1}^{n}(x_{i}-{\\bar {x}})(y_{i}-{\\bar {y}})}{{\\sqrt {\\sum _{i=1}^{n}(x_{i}-{\\bar {x}})^{2}}}\\cdot {\\sqrt {\\sum _{i=1}^{n}(y_{i}-{\\bar {y}})^{2}}}}}={\\frac {\\operatorname {cov} (X,Y)}{\\sqrt {\\operatorname {var} (X)\\cdot \\operatorname {var} (Y)}}}}$"
   ]
  },
  {
   "cell_type": "code",
   "execution_count": 5,
   "id": "daf54e66",
   "metadata": {},
   "outputs": [
    {
     "name": "stdout",
     "output_type": "stream",
     "text": [
      "          preg      pres      test      mass      pedi       age\n",
      "preg  1.000000  0.436783  0.392573  0.183928 -0.113970  0.074752\n",
      "pres  0.436783  1.000000  0.197859  0.185071 -0.042163  0.130548\n",
      "test  0.392573  0.197859  1.000000  0.140647  0.036242  0.292695\n",
      "mass  0.183928  0.185071  0.140647  1.000000  0.033561  0.173844\n",
      "pedi -0.113970 -0.042163  0.036242  0.033561  1.000000  0.238356\n",
      "age   0.074752  0.130548  0.292695  0.173844  0.238356  1.000000\n"
     ]
    }
   ],
   "source": [
    "import pandas as pd\n",
    "\n",
    "colunas = ['preg', 'pres', 'test', 'mass', 'pedi', 'age']\n",
    "\n",
    "dados = pd.read_csv('/home/stain/Documents/MachineLearning/Datasets/Indian-Diab/pima-indians-diabetes.csv', names = colunas)\n",
    "\n",
    "# Tudo apenas com a função \"corr\", setando com a fórmula de Pearson\n",
    "print(dados.corr(method = 'pearson'))"
   ]
  },
  {
   "cell_type": "code",
   "execution_count": 6,
   "id": "7a15624a",
   "metadata": {},
   "outputs": [
    {
     "data": {
      "image/png": "[encoded data removed]",
      "text/plain": [
       "<Figure size 720x720 with 2 Axes>"
      ]
     },
     "metadata": {
      "needs_background": "light"
     },
     "output_type": "display_data"
    }
   ],
   "source": [
    "import seaborn as sns\n",
    "import matplotlib.pyplot as plt\n",
    "\n",
    "# Colocando em um mapa de calor para melhor visualização de dados.\n",
    "\n",
    "plt.figure(figsize = (10,10))\n",
    "sns.heatmap(dados.corr(method = 'pearson'))\n",
    "plt.show()"
   ]
  },
  {
   "cell_type": "code",
   "execution_count": null,
   "id": "98639037",
   "metadata": {},
   "outputs": [],
   "source": []
  }
 ],
 "metadata": {
  "kernelspec": {
   "display_name": "Python 3.8.5 64-bit",
   "language": "python",
   "name": "python385jvsc74a57bd031f2aee4e71d21fbe5cf8b01ff0e069b9275f58929596ceb00d14d90e3e16cd6"
  },
  "language_info": {
   "codemirror_mode": {
    "name": "ipython",
    "version": 3
   },
   "file_extension": ".py",
   "mimetype": "text/x-python",
   "name": "python",
   "nbconvert_exporter": "python",
   "pygments_lexer": "ipython3",
   "version": "3.8.5"
  }
 },
 "nbformat": 4,
 "nbformat_minor": 5
}
