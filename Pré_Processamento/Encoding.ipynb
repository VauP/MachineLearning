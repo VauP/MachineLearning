{
 "metadata": {
  "language_info": {
   "codemirror_mode": {
    "name": "ipython",
    "version": 3
   },
   "file_extension": ".py",
   "mimetype": "text/x-python",
   "name": "python",
   "nbconvert_exporter": "python",
   "pygments_lexer": "ipython3",
   "version": "3.8.10"
  },
  "orig_nbformat": 4,
  "kernelspec": {
   "name": "python3",
   "display_name": "Python 3.8.10 64-bit"
  },
  "interpreter": {
   "hash": "31f2aee4e71d21fbe5cf8b01ff0e069b9275f58929596ceb00d14d90e3e16cd6"
  }
 },
 "nbformat": 4,
 "nbformat_minor": 2,
 "cells": [
  {
   "cell_type": "code",
   "execution_count": 1,
   "metadata": {},
   "outputs": [
    {
     "output_type": "execute_result",
     "data": {
      "text/plain": [
       "   DR Number  ... Neighborhood Councils (Certified)\n",
       "0  191323054  ...                              46.0\n",
       "1  192020666  ...                              89.0\n",
       "2  191616992  ...                               7.0\n",
       "3  191824082  ...                              45.0\n",
       "4  191616980  ...                              21.0\n",
       "\n",
       "[5 rows x 24 columns]"
      ],
      "text/html": "<div>\n<style scoped>\n    .dataframe tbody tr th:only-of-type {\n        vertical-align: middle;\n    }\n\n    .dataframe tbody tr th {\n        vertical-align: top;\n    }\n\n    .dataframe thead th {\n        text-align: right;\n    }\n</style>\n<table border=\"1\" class=\"dataframe\">\n  <thead>\n    <tr style=\"text-align: right;\">\n      <th></th>\n      <th>DR Number</th>\n      <th>Date Reported</th>\n      <th>Date Occurred</th>\n      <th>Time Occurred</th>\n      <th>Area ID</th>\n      <th>Area Name</th>\n      <th>Reporting District</th>\n      <th>Crime Code</th>\n      <th>Crime Code Description</th>\n      <th>MO Codes</th>\n      <th>Victim Age</th>\n      <th>Victim Sex</th>\n      <th>Victim Descent</th>\n      <th>Premise Code</th>\n      <th>Premise Description</th>\n      <th>Address</th>\n      <th>Cross Street</th>\n      <th>Location</th>\n      <th>Zip Codes</th>\n      <th>Census Tracts</th>\n      <th>Precinct Boundaries</th>\n      <th>LA Specific Plans</th>\n      <th>Council Districts</th>\n      <th>Neighborhood Councils (Certified)</th>\n    </tr>\n  </thead>\n  <tbody>\n    <tr>\n      <th>0</th>\n      <td>191323054</td>\n      <td>2019-11-30T00:00:00.000</td>\n      <td>2019-11-30T00:00:00.000</td>\n      <td>130</td>\n      <td>13</td>\n      <td>Newton</td>\n      <td>1385</td>\n      <td>997</td>\n      <td>TRAFFIC COLLISION</td>\n      <td>NaN</td>\n      <td>NaN</td>\n      <td>F</td>\n      <td>H</td>\n      <td>101.0</td>\n      <td>STREET</td>\n      <td>SAN PEDRO                    ST</td>\n      <td>SLAUSON                      AV</td>\n      <td>{'longitude': '-118.2696', 'human_address': '{...</td>\n      <td>22352.0</td>\n      <td>786.0</td>\n      <td>858.0</td>\n      <td>7.0</td>\n      <td>13.0</td>\n      <td>46.0</td>\n    </tr>\n    <tr>\n      <th>1</th>\n      <td>192020666</td>\n      <td>2019-11-30T00:00:00.000</td>\n      <td>2019-11-30T00:00:00.000</td>\n      <td>15</td>\n      <td>20</td>\n      <td>Olympic</td>\n      <td>2054</td>\n      <td>997</td>\n      <td>TRAFFIC COLLISION</td>\n      <td>NaN</td>\n      <td>40.0</td>\n      <td>M</td>\n      <td>W</td>\n      <td>101.0</td>\n      <td>STREET</td>\n      <td>OLYMPIC                      BL</td>\n      <td>KINGSLEY                     AV</td>\n      <td>{'longitude': '-118.3031', 'human_address': '{...</td>\n      <td>22723.0</td>\n      <td>617.0</td>\n      <td>646.0</td>\n      <td>NaN</td>\n      <td>12.0</td>\n      <td>89.0</td>\n    </tr>\n    <tr>\n      <th>2</th>\n      <td>191616992</td>\n      <td>2019-11-30T00:00:00.000</td>\n      <td>2019-11-30T00:00:00.000</td>\n      <td>230</td>\n      <td>16</td>\n      <td>Foothill</td>\n      <td>1669</td>\n      <td>997</td>\n      <td>TRAFFIC COLLISION</td>\n      <td>NaN</td>\n      <td>18.0</td>\n      <td>M</td>\n      <td>W</td>\n      <td>101.0</td>\n      <td>STREET</td>\n      <td>TUJUNGA CANYON               BL</td>\n      <td>LA TUNA CANYON               RD</td>\n      <td>{'longitude': '-118.2704', 'human_address': '{...</td>\n      <td>3222.0</td>\n      <td>5.0</td>\n      <td>227.0</td>\n      <td>NaN</td>\n      <td>1.0</td>\n      <td>7.0</td>\n    </tr>\n    <tr>\n      <th>3</th>\n      <td>191824082</td>\n      <td>2019-11-30T00:00:00.000</td>\n      <td>2019-11-30T00:00:00.000</td>\n      <td>730</td>\n      <td>18</td>\n      <td>Southeast</td>\n      <td>1802</td>\n      <td>997</td>\n      <td>TRAFFIC COLLISION</td>\n      <td>0605</td>\n      <td>23.0</td>\n      <td>M</td>\n      <td>H</td>\n      <td>101.0</td>\n      <td>STREET</td>\n      <td>88TH                         ST</td>\n      <td>MAIN                         ST</td>\n      <td>{'longitude': '-118.2739', 'human_address': '{...</td>\n      <td>22352.0</td>\n      <td>800.0</td>\n      <td>358.0</td>\n      <td>7.0</td>\n      <td>14.0</td>\n      <td>45.0</td>\n    </tr>\n    <tr>\n      <th>4</th>\n      <td>191616980</td>\n      <td>2019-11-30T00:00:00.000</td>\n      <td>2019-11-30T00:00:00.000</td>\n      <td>720</td>\n      <td>16</td>\n      <td>Foothill</td>\n      <td>1689</td>\n      <td>997</td>\n      <td>TRAFFIC COLLISION</td>\n      <td>NaN</td>\n      <td>NaN</td>\n      <td>M</td>\n      <td>H</td>\n      <td>101.0</td>\n      <td>STREET</td>\n      <td>CROCKETT</td>\n      <td>SUNLAND</td>\n      <td>{'longitude': '-118.3703', 'human_address': '{...</td>\n      <td>19335.0</td>\n      <td>166.0</td>\n      <td>272.0</td>\n      <td>NaN</td>\n      <td>3.0</td>\n      <td>21.0</td>\n    </tr>\n  </tbody>\n</table>\n</div>"
     },
     "metadata": {},
     "execution_count": 1
    }
   ],
   "source": [
    "import pandas as pd\n",
    "arquivo = pd.read_csv('/home/stain/Documents/MachineLearning/Datasets/LosAngelesTrafficColision/traffic-collision-data-from-2010-to-present.csv')\n",
    "\n",
    "arquivo.head()"
   ]
  },
  {
   "cell_type": "code",
   "execution_count": 2,
   "metadata": {},
   "outputs": [
    {
     "output_type": "execute_result",
     "data": {
      "text/plain": [
       "(502858, 24)"
      ]
     },
     "metadata": {},
     "execution_count": 2
    }
   ],
   "source": [
    "arquivo.shape"
   ]
  },
  {
   "cell_type": "code",
   "execution_count": 3,
   "metadata": {},
   "outputs": [
    {
     "output_type": "execute_result",
     "data": {
      "text/plain": [
       "   77th Street  Central  Devonshire  ...  West LA  West Valley  Wilshire\n",
       "0            0        0           0  ...        0            0         0\n",
       "1            0        0           0  ...        0            0         0\n",
       "2            0        0           0  ...        0            0         0\n",
       "3            0        0           0  ...        0            0         0\n",
       "4            0        0           0  ...        0            0         0\n",
       "\n",
       "[5 rows x 21 columns]"
      ],
      "text/html": "<div>\n<style scoped>\n    .dataframe tbody tr th:only-of-type {\n        vertical-align: middle;\n    }\n\n    .dataframe tbody tr th {\n        vertical-align: top;\n    }\n\n    .dataframe thead th {\n        text-align: right;\n    }\n</style>\n<table border=\"1\" class=\"dataframe\">\n  <thead>\n    <tr style=\"text-align: right;\">\n      <th></th>\n      <th>77th Street</th>\n      <th>Central</th>\n      <th>Devonshire</th>\n      <th>Foothill</th>\n      <th>Harbor</th>\n      <th>Hollenbeck</th>\n      <th>Hollywood</th>\n      <th>Mission</th>\n      <th>N Hollywood</th>\n      <th>Newton</th>\n      <th>Northeast</th>\n      <th>Olympic</th>\n      <th>Pacific</th>\n      <th>Rampart</th>\n      <th>Southeast</th>\n      <th>Southwest</th>\n      <th>Topanga</th>\n      <th>Van Nuys</th>\n      <th>West LA</th>\n      <th>West Valley</th>\n      <th>Wilshire</th>\n    </tr>\n  </thead>\n  <tbody>\n    <tr>\n      <th>0</th>\n      <td>0</td>\n      <td>0</td>\n      <td>0</td>\n      <td>0</td>\n      <td>0</td>\n      <td>0</td>\n      <td>0</td>\n      <td>0</td>\n      <td>0</td>\n      <td>1</td>\n      <td>0</td>\n      <td>0</td>\n      <td>0</td>\n      <td>0</td>\n      <td>0</td>\n      <td>0</td>\n      <td>0</td>\n      <td>0</td>\n      <td>0</td>\n      <td>0</td>\n      <td>0</td>\n    </tr>\n    <tr>\n      <th>1</th>\n      <td>0</td>\n      <td>0</td>\n      <td>0</td>\n      <td>0</td>\n      <td>0</td>\n      <td>0</td>\n      <td>0</td>\n      <td>0</td>\n      <td>0</td>\n      <td>0</td>\n      <td>0</td>\n      <td>1</td>\n      <td>0</td>\n      <td>0</td>\n      <td>0</td>\n      <td>0</td>\n      <td>0</td>\n      <td>0</td>\n      <td>0</td>\n      <td>0</td>\n      <td>0</td>\n    </tr>\n    <tr>\n      <th>2</th>\n      <td>0</td>\n      <td>0</td>\n      <td>0</td>\n      <td>1</td>\n      <td>0</td>\n      <td>0</td>\n      <td>0</td>\n      <td>0</td>\n      <td>0</td>\n      <td>0</td>\n      <td>0</td>\n      <td>0</td>\n      <td>0</td>\n      <td>0</td>\n      <td>0</td>\n      <td>0</td>\n      <td>0</td>\n      <td>0</td>\n      <td>0</td>\n      <td>0</td>\n      <td>0</td>\n    </tr>\n    <tr>\n      <th>3</th>\n      <td>0</td>\n      <td>0</td>\n      <td>0</td>\n      <td>0</td>\n      <td>0</td>\n      <td>0</td>\n      <td>0</td>\n      <td>0</td>\n      <td>0</td>\n      <td>0</td>\n      <td>0</td>\n      <td>0</td>\n      <td>0</td>\n      <td>0</td>\n      <td>1</td>\n      <td>0</td>\n      <td>0</td>\n      <td>0</td>\n      <td>0</td>\n      <td>0</td>\n      <td>0</td>\n    </tr>\n    <tr>\n      <th>4</th>\n      <td>0</td>\n      <td>0</td>\n      <td>0</td>\n      <td>1</td>\n      <td>0</td>\n      <td>0</td>\n      <td>0</td>\n      <td>0</td>\n      <td>0</td>\n      <td>0</td>\n      <td>0</td>\n      <td>0</td>\n      <td>0</td>\n      <td>0</td>\n      <td>0</td>\n      <td>0</td>\n      <td>0</td>\n      <td>0</td>\n      <td>0</td>\n      <td>0</td>\n      <td>0</td>\n    </tr>\n  </tbody>\n</table>\n</div>"
     },
     "metadata": {},
     "execution_count": 3
    }
   ],
   "source": [
    "# Para que não apenas troquemos para um valor representativo (ID) uma coluna String e o agregamento de peso em uma variável informativa, usamos a função One-hot encoding trocando cada valor em String para um valor binário.\n",
    "\n",
    "area_encode = pd.get_dummies(arquivo['Area Name'])\n",
    "area_encode.head()"
   ]
  },
  {
   "cell_type": "code",
   "execution_count": 4,
   "metadata": {},
   "outputs": [
    {
     "output_type": "execute_result",
     "data": {
      "text/plain": [
       "   DR Number            Date Reported  ... West Valley  Wilshire\n",
       "0  191323054  2019-11-30T00:00:00.000  ...           0         0\n",
       "1  192020666  2019-11-30T00:00:00.000  ...           0         0\n",
       "2  191616992  2019-11-30T00:00:00.000  ...           0         0\n",
       "3  191824082  2019-11-30T00:00:00.000  ...           0         0\n",
       "4  191616980  2019-11-30T00:00:00.000  ...           0         0\n",
       "\n",
       "[5 rows x 44 columns]"
      ],
      "text/html": "<div>\n<style scoped>\n    .dataframe tbody tr th:only-of-type {\n        vertical-align: middle;\n    }\n\n    .dataframe tbody tr th {\n        vertical-align: top;\n    }\n\n    .dataframe thead th {\n        text-align: right;\n    }\n</style>\n<table border=\"1\" class=\"dataframe\">\n  <thead>\n    <tr style=\"text-align: right;\">\n      <th></th>\n      <th>DR Number</th>\n      <th>Date Reported</th>\n      <th>Date Occurred</th>\n      <th>Time Occurred</th>\n      <th>Area ID</th>\n      <th>Reporting District</th>\n      <th>Crime Code</th>\n      <th>Crime Code Description</th>\n      <th>MO Codes</th>\n      <th>Victim Age</th>\n      <th>Victim Sex</th>\n      <th>Victim Descent</th>\n      <th>Premise Code</th>\n      <th>Premise Description</th>\n      <th>Address</th>\n      <th>Cross Street</th>\n      <th>Location</th>\n      <th>Zip Codes</th>\n      <th>Census Tracts</th>\n      <th>Precinct Boundaries</th>\n      <th>LA Specific Plans</th>\n      <th>Council Districts</th>\n      <th>Neighborhood Councils (Certified)</th>\n      <th>77th Street</th>\n      <th>Central</th>\n      <th>Devonshire</th>\n      <th>Foothill</th>\n      <th>Harbor</th>\n      <th>Hollenbeck</th>\n      <th>Hollywood</th>\n      <th>Mission</th>\n      <th>N Hollywood</th>\n      <th>Newton</th>\n      <th>Northeast</th>\n      <th>Olympic</th>\n      <th>Pacific</th>\n      <th>Rampart</th>\n      <th>Southeast</th>\n      <th>Southwest</th>\n      <th>Topanga</th>\n      <th>Van Nuys</th>\n      <th>West LA</th>\n      <th>West Valley</th>\n      <th>Wilshire</th>\n    </tr>\n  </thead>\n  <tbody>\n    <tr>\n      <th>0</th>\n      <td>191323054</td>\n      <td>2019-11-30T00:00:00.000</td>\n      <td>2019-11-30T00:00:00.000</td>\n      <td>130</td>\n      <td>13</td>\n      <td>1385</td>\n      <td>997</td>\n      <td>TRAFFIC COLLISION</td>\n      <td>NaN</td>\n      <td>NaN</td>\n      <td>F</td>\n      <td>H</td>\n      <td>101.0</td>\n      <td>STREET</td>\n      <td>SAN PEDRO                    ST</td>\n      <td>SLAUSON                      AV</td>\n      <td>{'longitude': '-118.2696', 'human_address': '{...</td>\n      <td>22352.0</td>\n      <td>786.0</td>\n      <td>858.0</td>\n      <td>7.0</td>\n      <td>13.0</td>\n      <td>46.0</td>\n      <td>0</td>\n      <td>0</td>\n      <td>0</td>\n      <td>0</td>\n      <td>0</td>\n      <td>0</td>\n      <td>0</td>\n      <td>0</td>\n      <td>0</td>\n      <td>1</td>\n      <td>0</td>\n      <td>0</td>\n      <td>0</td>\n      <td>0</td>\n      <td>0</td>\n      <td>0</td>\n      <td>0</td>\n      <td>0</td>\n      <td>0</td>\n      <td>0</td>\n      <td>0</td>\n    </tr>\n    <tr>\n      <th>1</th>\n      <td>192020666</td>\n      <td>2019-11-30T00:00:00.000</td>\n      <td>2019-11-30T00:00:00.000</td>\n      <td>15</td>\n      <td>20</td>\n      <td>2054</td>\n      <td>997</td>\n      <td>TRAFFIC COLLISION</td>\n      <td>NaN</td>\n      <td>40.0</td>\n      <td>M</td>\n      <td>W</td>\n      <td>101.0</td>\n      <td>STREET</td>\n      <td>OLYMPIC                      BL</td>\n      <td>KINGSLEY                     AV</td>\n      <td>{'longitude': '-118.3031', 'human_address': '{...</td>\n      <td>22723.0</td>\n      <td>617.0</td>\n      <td>646.0</td>\n      <td>NaN</td>\n      <td>12.0</td>\n      <td>89.0</td>\n      <td>0</td>\n      <td>0</td>\n      <td>0</td>\n      <td>0</td>\n      <td>0</td>\n      <td>0</td>\n      <td>0</td>\n      <td>0</td>\n      <td>0</td>\n      <td>0</td>\n      <td>0</td>\n      <td>1</td>\n      <td>0</td>\n      <td>0</td>\n      <td>0</td>\n      <td>0</td>\n      <td>0</td>\n      <td>0</td>\n      <td>0</td>\n      <td>0</td>\n      <td>0</td>\n    </tr>\n    <tr>\n      <th>2</th>\n      <td>191616992</td>\n      <td>2019-11-30T00:00:00.000</td>\n      <td>2019-11-30T00:00:00.000</td>\n      <td>230</td>\n      <td>16</td>\n      <td>1669</td>\n      <td>997</td>\n      <td>TRAFFIC COLLISION</td>\n      <td>NaN</td>\n      <td>18.0</td>\n      <td>M</td>\n      <td>W</td>\n      <td>101.0</td>\n      <td>STREET</td>\n      <td>TUJUNGA CANYON               BL</td>\n      <td>LA TUNA CANYON               RD</td>\n      <td>{'longitude': '-118.2704', 'human_address': '{...</td>\n      <td>3222.0</td>\n      <td>5.0</td>\n      <td>227.0</td>\n      <td>NaN</td>\n      <td>1.0</td>\n      <td>7.0</td>\n      <td>0</td>\n      <td>0</td>\n      <td>0</td>\n      <td>1</td>\n      <td>0</td>\n      <td>0</td>\n      <td>0</td>\n      <td>0</td>\n      <td>0</td>\n      <td>0</td>\n      <td>0</td>\n      <td>0</td>\n      <td>0</td>\n      <td>0</td>\n      <td>0</td>\n      <td>0</td>\n      <td>0</td>\n      <td>0</td>\n      <td>0</td>\n      <td>0</td>\n      <td>0</td>\n    </tr>\n    <tr>\n      <th>3</th>\n      <td>191824082</td>\n      <td>2019-11-30T00:00:00.000</td>\n      <td>2019-11-30T00:00:00.000</td>\n      <td>730</td>\n      <td>18</td>\n      <td>1802</td>\n      <td>997</td>\n      <td>TRAFFIC COLLISION</td>\n      <td>0605</td>\n      <td>23.0</td>\n      <td>M</td>\n      <td>H</td>\n      <td>101.0</td>\n      <td>STREET</td>\n      <td>88TH                         ST</td>\n      <td>MAIN                         ST</td>\n      <td>{'longitude': '-118.2739', 'human_address': '{...</td>\n      <td>22352.0</td>\n      <td>800.0</td>\n      <td>358.0</td>\n      <td>7.0</td>\n      <td>14.0</td>\n      <td>45.0</td>\n      <td>0</td>\n      <td>0</td>\n      <td>0</td>\n      <td>0</td>\n      <td>0</td>\n      <td>0</td>\n      <td>0</td>\n      <td>0</td>\n      <td>0</td>\n      <td>0</td>\n      <td>0</td>\n      <td>0</td>\n      <td>0</td>\n      <td>0</td>\n      <td>1</td>\n      <td>0</td>\n      <td>0</td>\n      <td>0</td>\n      <td>0</td>\n      <td>0</td>\n      <td>0</td>\n    </tr>\n    <tr>\n      <th>4</th>\n      <td>191616980</td>\n      <td>2019-11-30T00:00:00.000</td>\n      <td>2019-11-30T00:00:00.000</td>\n      <td>720</td>\n      <td>16</td>\n      <td>1689</td>\n      <td>997</td>\n      <td>TRAFFIC COLLISION</td>\n      <td>NaN</td>\n      <td>NaN</td>\n      <td>M</td>\n      <td>H</td>\n      <td>101.0</td>\n      <td>STREET</td>\n      <td>CROCKETT</td>\n      <td>SUNLAND</td>\n      <td>{'longitude': '-118.3703', 'human_address': '{...</td>\n      <td>19335.0</td>\n      <td>166.0</td>\n      <td>272.0</td>\n      <td>NaN</td>\n      <td>3.0</td>\n      <td>21.0</td>\n      <td>0</td>\n      <td>0</td>\n      <td>0</td>\n      <td>1</td>\n      <td>0</td>\n      <td>0</td>\n      <td>0</td>\n      <td>0</td>\n      <td>0</td>\n      <td>0</td>\n      <td>0</td>\n      <td>0</td>\n      <td>0</td>\n      <td>0</td>\n      <td>0</td>\n      <td>0</td>\n      <td>0</td>\n      <td>0</td>\n      <td>0</td>\n      <td>0</td>\n      <td>0</td>\n    </tr>\n  </tbody>\n</table>\n</div>"
     },
     "metadata": {},
     "execution_count": 4
    }
   ],
   "source": [
    "concatenado = pd.concat([arquivo, area_encode], axis = 1)\n",
    "concatenado.drop('Area Name', axis = 1, inplace = True)\n",
    "concatenado.head()"
   ]
  }
 ]
}