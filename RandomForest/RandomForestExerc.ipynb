{
 "metadata": {
  "language_info": {
   "codemirror_mode": {
    "name": "ipython",
    "version": 3
   },
   "file_extension": ".py",
   "mimetype": "text/x-python",
   "name": "python",
   "nbconvert_exporter": "python",
   "pygments_lexer": "ipython3",
   "version": "3.8.10"
  },
  "orig_nbformat": 4,
  "kernelspec": {
   "name": "python3",
   "display_name": "Python 3.8.10 64-bit"
  },
  "interpreter": {
   "hash": "31f2aee4e71d21fbe5cf8b01ff0e069b9275f58929596ceb00d14d90e3e16cd6"
  }
 },
 "nbformat": 4,
 "nbformat_minor": 2,
 "cells": [
  {
   "cell_type": "code",
   "execution_count": 1,
   "metadata": {},
   "outputs": [
    {
     "output_type": "execute_result",
     "data": {
      "text/plain": [
       "                  CITY STATE  CAPITAL  IBGE_RES_POP  IBGE_RES_POP_BRAS  \\\n",
       "0      Abadia De Goiás    GO        0        6876.0             6876.0   \n",
       "1  Abadia Dos Dourados    MG        0        6704.0             6704.0   \n",
       "2            Abadiânia    GO        0       15757.0            15609.0   \n",
       "3               Abaeté    MG        0       22690.0            22690.0   \n",
       "4           Abaetetuba    PA        0      141100.0           141040.0   \n",
       "\n",
       "   IBGE_RES_POP_ESTR  IBGE_DU  IBGE_DU_URBAN  IBGE_DU_RURAL  IBGE_POP  IBGE_1  \\\n",
       "0                0.0   2137.0         1546.0          591.0    5300.0    69.0   \n",
       "1                0.0   2328.0         1481.0          847.0    4154.0    38.0   \n",
       "2              148.0   4655.0         3233.0         1422.0   10656.0   139.0   \n",
       "3                0.0   7694.0         6667.0         1027.0   18464.0   176.0   \n",
       "4               60.0  31061.0        19057.0        12004.0   82956.0  1354.0   \n",
       "\n",
       "   IBGE_1-4  IBGE_5-9  IBGE_10-14  IBGE_15-59  IBGE_60+  IBGE_PLANTED_AREA  \\\n",
       "0     318.0     438.0       517.0      3542.0     416.0              319.0   \n",
       "1     207.0     260.0       351.0      2709.0     589.0             4479.0   \n",
       "2     650.0     894.0      1087.0      6896.0     990.0            10307.0   \n",
       "3     856.0    1233.0      1539.0     11979.0    2681.0             1862.0   \n",
       "4    5567.0    7618.0      8905.0     53516.0    5996.0            25200.0   \n",
       "\n",
       "   IBGE_CROP_PRODUCTION_$  IDHM Ranking 2010   IDHM IDHM_Renda  \\\n",
       "0                  1843.0             1689.0  0.708      0.687   \n",
       "1                 18017.0             2207.0   0.69      0.693   \n",
       "2                 33085.0             2202.0   0.69      0.671   \n",
       "3                  7502.0             1994.0  0.698       0.72   \n",
       "4                700872.0             3530.0  0.628      0.579   \n",
       "\n",
       "  IDHM_Longevidade IDHM_Educacao          LONG           LAT      ALT  PAY_TV  \\\n",
       "0             0.83         0.622  -49.44054783  -16.75881189    893.6   360.0   \n",
       "1            0.839         0.563  -47.39683244  -18.48756496   753.12    77.0   \n",
       "2            0.841         0.579  -48.71881214  -16.18267186  1017.55   227.0   \n",
       "3            0.848         0.556  -45.44619142  -19.15584769   644.74  1230.0   \n",
       "4            0.798         0.537  -48.88440382  -1.723469863    10.12  3389.0   \n",
       "\n",
       "   FIXED_PHONES      AREA                           REGIAO_TUR CATEGORIA_TUR  \\\n",
       "0         842.0    147.26                                  NaN           NaN   \n",
       "1         296.0    881.06                  Caminhos Do Cerrado             D   \n",
       "2         720.0  1,045.13  Região Turística Do Ouro E Cristais             C   \n",
       "3        1716.0  1,817.07                  Lago De Três Marias             D   \n",
       "4        1218.0  1,610.65                   Araguaia-Tocantins             D   \n",
       "\n",
       "   ESTIMATED_POP      RURAL_URBAN GVA_AGROPEC GVA_INDUSTRY GVA_SERVICES  \\\n",
       "0         8583.0           Urbano         6.2     27991.25     74750.32   \n",
       "1         6972.0  Rural Adjacente    50524.57      25917.7     62689.23   \n",
       "2        19614.0  Rural Adjacente       42.84      16728.3    138198.58   \n",
       "3        23223.0           Urbano    113824.6     31002.62       172.33   \n",
       "4       156292.0           Urbano   140463.72        58610    468128.69   \n",
       "\n",
       "  GVA_PUBLIC  GVA_TOTAL      TAXES         GDP   POP_GDP GDP_CAPITA  \\\n",
       "0   36915.04    145857.6   20554.2      166.41    8053.0   20664.57   \n",
       "1   28083.79   167215.28   12873.5      180.09    7037.0    25591.7   \n",
       "2    63396.2   261161.91  26822.58   287984.49   18427.0    15628.4   \n",
       "3   86081.41   403241.27  26994.09   430235.36   23574.0   18250.42   \n",
       "4   486872.4  1154074.81  95180.48  1249255.29  151934.0    8222.36   \n",
       "\n",
       "                                            GVA_MAIN  MUN_EXPENDIT  COMP_TOT  \\\n",
       "0                                    Demais serviços    28227691.0     284.0   \n",
       "1                                    Demais serviços    17909274.0     476.0   \n",
       "2                                    Demais serviços    37513019.0     288.0   \n",
       "3                                    Demais serviços           NaN     621.0   \n",
       "4  Administração, defesa, educação e saúde públic...           NaN     931.0   \n",
       "\n",
       "   COMP_A  COMP_B  COMP_C  COMP_D  COMP_E  COMP_F  COMP_G  COMP_H  COMP_I  \\\n",
       "0     5.0     1.0    56.0     0.0     2.0    29.0   110.0    26.0     4.0   \n",
       "1     6.0     6.0    30.0     1.0     2.0    34.0   190.0    70.0    28.0   \n",
       "2     5.0     9.0    26.0     0.0     2.0     7.0   117.0    12.0    57.0   \n",
       "3    18.0     1.0    40.0     0.0     1.0    20.0   303.0    62.0    30.0   \n",
       "4     4.0     2.0    43.0     0.0     1.0    27.0   500.0    16.0    31.0   \n",
       "\n",
       "   COMP_J  COMP_K  COMP_L  COMP_M  COMP_N  COMP_O  COMP_P  COMP_Q  COMP_R  \\\n",
       "0     5.0     0.0     2.0    10.0    12.0     4.0     6.0     6.0     1.0   \n",
       "1    11.0     0.0     4.0    15.0    29.0     2.0     9.0    14.0     6.0   \n",
       "2     2.0     1.0     0.0     7.0    15.0     3.0    11.0     5.0     1.0   \n",
       "3     9.0     6.0     4.0    28.0    27.0     2.0    15.0    19.0     9.0   \n",
       "4     6.0     1.0     1.0    22.0    16.0     2.0   155.0    33.0    15.0   \n",
       "\n",
       "   COMP_S  COMP_T  COMP_U  HOTELS  BEDS  Pr_Agencies  Pu_Agencies  Pr_Bank  \\\n",
       "0     5.0     0.0     0.0     NaN   NaN          NaN          NaN      NaN   \n",
       "1    19.0     0.0     0.0     NaN   NaN          NaN          NaN      NaN   \n",
       "2     8.0     0.0     0.0     1.0  34.0          1.0          1.0      1.0   \n",
       "3    27.0     0.0     0.0     NaN   NaN          2.0          2.0      2.0   \n",
       "4    56.0     0.0     0.0     NaN   NaN          2.0          4.0      2.0   \n",
       "\n",
       "   Pu_Bank   Pr_Assets    Pu_Assets    Cars  Motorcycles  Wheeled_tractor  \\\n",
       "0      NaN         NaN          NaN  2158.0       1246.0              0.0   \n",
       "1      NaN         NaN          NaN  2227.0       1142.0              0.0   \n",
       "2      1.0  33724584.0   67091904.0  2838.0       1426.0              0.0   \n",
       "3      2.0  44974716.0  371922572.0  6928.0       2953.0              0.0   \n",
       "4      4.0  76181384.0  800078483.0  5277.0      25661.0              0.0   \n",
       "\n",
       "   UBER  MAC  WAL-MART  POST_OFFICES  \n",
       "0   NaN  NaN       NaN           1.0  \n",
       "1   NaN  NaN       NaN           1.0  \n",
       "2   NaN  NaN       NaN           3.0  \n",
       "3   NaN  NaN       NaN           4.0  \n",
       "4   NaN  NaN       NaN           2.0  "
      ],
      "text/html": "<div>\n<style scoped>\n    .dataframe tbody tr th:only-of-type {\n        vertical-align: middle;\n    }\n\n    .dataframe tbody tr th {\n        vertical-align: top;\n    }\n\n    .dataframe thead th {\n        text-align: right;\n    }\n</style>\n<table border=\"1\" class=\"dataframe\">\n  <thead>\n    <tr style=\"text-align: right;\">\n      <th></th>\n      <th>CITY</th>\n      <th>STATE</th>\n      <th>CAPITAL</th>\n      <th>IBGE_RES_POP</th>\n      <th>IBGE_RES_POP_BRAS</th>\n      <th>IBGE_RES_POP_ESTR</th>\n      <th>IBGE_DU</th>\n      <th>IBGE_DU_URBAN</th>\n      <th>IBGE_DU_RURAL</th>\n      <th>IBGE_POP</th>\n      <th>IBGE_1</th>\n      <th>IBGE_1-4</th>\n      <th>IBGE_5-9</th>\n      <th>IBGE_10-14</th>\n      <th>IBGE_15-59</th>\n      <th>IBGE_60+</th>\n      <th>IBGE_PLANTED_AREA</th>\n      <th>IBGE_CROP_PRODUCTION_$</th>\n      <th>IDHM Ranking 2010</th>\n      <th>IDHM</th>\n      <th>IDHM_Renda</th>\n      <th>IDHM_Longevidade</th>\n      <th>IDHM_Educacao</th>\n      <th>LONG</th>\n      <th>LAT</th>\n      <th>ALT</th>\n      <th>PAY_TV</th>\n      <th>FIXED_PHONES</th>\n      <th>AREA</th>\n      <th>REGIAO_TUR</th>\n      <th>CATEGORIA_TUR</th>\n      <th>ESTIMATED_POP</th>\n      <th>RURAL_URBAN</th>\n      <th>GVA_AGROPEC</th>\n      <th>GVA_INDUSTRY</th>\n      <th>GVA_SERVICES</th>\n      <th>GVA_PUBLIC</th>\n      <th>GVA_TOTAL</th>\n      <th>TAXES</th>\n      <th>GDP</th>\n      <th>POP_GDP</th>\n      <th>GDP_CAPITA</th>\n      <th>GVA_MAIN</th>\n      <th>MUN_EXPENDIT</th>\n      <th>COMP_TOT</th>\n      <th>COMP_A</th>\n      <th>COMP_B</th>\n      <th>COMP_C</th>\n      <th>COMP_D</th>\n      <th>COMP_E</th>\n      <th>COMP_F</th>\n      <th>COMP_G</th>\n      <th>COMP_H</th>\n      <th>COMP_I</th>\n      <th>COMP_J</th>\n      <th>COMP_K</th>\n      <th>COMP_L</th>\n      <th>COMP_M</th>\n      <th>COMP_N</th>\n      <th>COMP_O</th>\n      <th>COMP_P</th>\n      <th>COMP_Q</th>\n      <th>COMP_R</th>\n      <th>COMP_S</th>\n      <th>COMP_T</th>\n      <th>COMP_U</th>\n      <th>HOTELS</th>\n      <th>BEDS</th>\n      <th>Pr_Agencies</th>\n      <th>Pu_Agencies</th>\n      <th>Pr_Bank</th>\n      <th>Pu_Bank</th>\n      <th>Pr_Assets</th>\n      <th>Pu_Assets</th>\n      <th>Cars</th>\n      <th>Motorcycles</th>\n      <th>Wheeled_tractor</th>\n      <th>UBER</th>\n      <th>MAC</th>\n      <th>WAL-MART</th>\n      <th>POST_OFFICES</th>\n    </tr>\n  </thead>\n  <tbody>\n    <tr>\n      <th>0</th>\n      <td>Abadia De Goiás</td>\n      <td>GO</td>\n      <td>0</td>\n      <td>6876.0</td>\n      <td>6876.0</td>\n      <td>0.0</td>\n      <td>2137.0</td>\n      <td>1546.0</td>\n      <td>591.0</td>\n      <td>5300.0</td>\n      <td>69.0</td>\n      <td>318.0</td>\n      <td>438.0</td>\n      <td>517.0</td>\n      <td>3542.0</td>\n      <td>416.0</td>\n      <td>319.0</td>\n      <td>1843.0</td>\n      <td>1689.0</td>\n      <td>0.708</td>\n      <td>0.687</td>\n      <td>0.83</td>\n      <td>0.622</td>\n      <td>-49.44054783</td>\n      <td>-16.75881189</td>\n      <td>893.6</td>\n      <td>360.0</td>\n      <td>842.0</td>\n      <td>147.26</td>\n      <td>NaN</td>\n      <td>NaN</td>\n      <td>8583.0</td>\n      <td>Urbano</td>\n      <td>6.2</td>\n      <td>27991.25</td>\n      <td>74750.32</td>\n      <td>36915.04</td>\n      <td>145857.6</td>\n      <td>20554.2</td>\n      <td>166.41</td>\n      <td>8053.0</td>\n      <td>20664.57</td>\n      <td>Demais serviços</td>\n      <td>28227691.0</td>\n      <td>284.0</td>\n      <td>5.0</td>\n      <td>1.0</td>\n      <td>56.0</td>\n      <td>0.0</td>\n      <td>2.0</td>\n      <td>29.0</td>\n      <td>110.0</td>\n      <td>26.0</td>\n      <td>4.0</td>\n      <td>5.0</td>\n      <td>0.0</td>\n      <td>2.0</td>\n      <td>10.0</td>\n      <td>12.0</td>\n      <td>4.0</td>\n      <td>6.0</td>\n      <td>6.0</td>\n      <td>1.0</td>\n      <td>5.0</td>\n      <td>0.0</td>\n      <td>0.0</td>\n      <td>NaN</td>\n      <td>NaN</td>\n      <td>NaN</td>\n      <td>NaN</td>\n      <td>NaN</td>\n      <td>NaN</td>\n      <td>NaN</td>\n      <td>NaN</td>\n      <td>2158.0</td>\n      <td>1246.0</td>\n      <td>0.0</td>\n      <td>NaN</td>\n      <td>NaN</td>\n      <td>NaN</td>\n      <td>1.0</td>\n    </tr>\n    <tr>\n      <th>1</th>\n      <td>Abadia Dos Dourados</td>\n      <td>MG</td>\n      <td>0</td>\n      <td>6704.0</td>\n      <td>6704.0</td>\n      <td>0.0</td>\n      <td>2328.0</td>\n      <td>1481.0</td>\n      <td>847.0</td>\n      <td>4154.0</td>\n      <td>38.0</td>\n      <td>207.0</td>\n      <td>260.0</td>\n      <td>351.0</td>\n      <td>2709.0</td>\n      <td>589.0</td>\n      <td>4479.0</td>\n      <td>18017.0</td>\n      <td>2207.0</td>\n      <td>0.69</td>\n      <td>0.693</td>\n      <td>0.839</td>\n      <td>0.563</td>\n      <td>-47.39683244</td>\n      <td>-18.48756496</td>\n      <td>753.12</td>\n      <td>77.0</td>\n      <td>296.0</td>\n      <td>881.06</td>\n      <td>Caminhos Do Cerrado</td>\n      <td>D</td>\n      <td>6972.0</td>\n      <td>Rural Adjacente</td>\n      <td>50524.57</td>\n      <td>25917.7</td>\n      <td>62689.23</td>\n      <td>28083.79</td>\n      <td>167215.28</td>\n      <td>12873.5</td>\n      <td>180.09</td>\n      <td>7037.0</td>\n      <td>25591.7</td>\n      <td>Demais serviços</td>\n      <td>17909274.0</td>\n      <td>476.0</td>\n      <td>6.0</td>\n      <td>6.0</td>\n      <td>30.0</td>\n      <td>1.0</td>\n      <td>2.0</td>\n      <td>34.0</td>\n      <td>190.0</td>\n      <td>70.0</td>\n      <td>28.0</td>\n      <td>11.0</td>\n      <td>0.0</td>\n      <td>4.0</td>\n      <td>15.0</td>\n      <td>29.0</td>\n      <td>2.0</td>\n      <td>9.0</td>\n      <td>14.0</td>\n      <td>6.0</td>\n      <td>19.0</td>\n      <td>0.0</td>\n      <td>0.0</td>\n      <td>NaN</td>\n      <td>NaN</td>\n      <td>NaN</td>\n      <td>NaN</td>\n      <td>NaN</td>\n      <td>NaN</td>\n      <td>NaN</td>\n      <td>NaN</td>\n      <td>2227.0</td>\n      <td>1142.0</td>\n      <td>0.0</td>\n      <td>NaN</td>\n      <td>NaN</td>\n      <td>NaN</td>\n      <td>1.0</td>\n    </tr>\n    <tr>\n      <th>2</th>\n      <td>Abadiânia</td>\n      <td>GO</td>\n      <td>0</td>\n      <td>15757.0</td>\n      <td>15609.0</td>\n      <td>148.0</td>\n      <td>4655.0</td>\n      <td>3233.0</td>\n      <td>1422.0</td>\n      <td>10656.0</td>\n      <td>139.0</td>\n      <td>650.0</td>\n      <td>894.0</td>\n      <td>1087.0</td>\n      <td>6896.0</td>\n      <td>990.0</td>\n      <td>10307.0</td>\n      <td>33085.0</td>\n      <td>2202.0</td>\n      <td>0.69</td>\n      <td>0.671</td>\n      <td>0.841</td>\n      <td>0.579</td>\n      <td>-48.71881214</td>\n      <td>-16.18267186</td>\n      <td>1017.55</td>\n      <td>227.0</td>\n      <td>720.0</td>\n      <td>1,045.13</td>\n      <td>Região Turística Do Ouro E Cristais</td>\n      <td>C</td>\n      <td>19614.0</td>\n      <td>Rural Adjacente</td>\n      <td>42.84</td>\n      <td>16728.3</td>\n      <td>138198.58</td>\n      <td>63396.2</td>\n      <td>261161.91</td>\n      <td>26822.58</td>\n      <td>287984.49</td>\n      <td>18427.0</td>\n      <td>15628.4</td>\n      <td>Demais serviços</td>\n      <td>37513019.0</td>\n      <td>288.0</td>\n      <td>5.0</td>\n      <td>9.0</td>\n      <td>26.0</td>\n      <td>0.0</td>\n      <td>2.0</td>\n      <td>7.0</td>\n      <td>117.0</td>\n      <td>12.0</td>\n      <td>57.0</td>\n      <td>2.0</td>\n      <td>1.0</td>\n      <td>0.0</td>\n      <td>7.0</td>\n      <td>15.0</td>\n      <td>3.0</td>\n      <td>11.0</td>\n      <td>5.0</td>\n      <td>1.0</td>\n      <td>8.0</td>\n      <td>0.0</td>\n      <td>0.0</td>\n      <td>1.0</td>\n      <td>34.0</td>\n      <td>1.0</td>\n      <td>1.0</td>\n      <td>1.0</td>\n      <td>1.0</td>\n      <td>33724584.0</td>\n      <td>67091904.0</td>\n      <td>2838.0</td>\n      <td>1426.0</td>\n      <td>0.0</td>\n      <td>NaN</td>\n      <td>NaN</td>\n      <td>NaN</td>\n      <td>3.0</td>\n    </tr>\n    <tr>\n      <th>3</th>\n      <td>Abaeté</td>\n      <td>MG</td>\n      <td>0</td>\n      <td>22690.0</td>\n      <td>22690.0</td>\n      <td>0.0</td>\n      <td>7694.0</td>\n      <td>6667.0</td>\n      <td>1027.0</td>\n      <td>18464.0</td>\n      <td>176.0</td>\n      <td>856.0</td>\n      <td>1233.0</td>\n      <td>1539.0</td>\n      <td>11979.0</td>\n      <td>2681.0</td>\n      <td>1862.0</td>\n      <td>7502.0</td>\n      <td>1994.0</td>\n      <td>0.698</td>\n      <td>0.72</td>\n      <td>0.848</td>\n      <td>0.556</td>\n      <td>-45.44619142</td>\n      <td>-19.15584769</td>\n      <td>644.74</td>\n      <td>1230.0</td>\n      <td>1716.0</td>\n      <td>1,817.07</td>\n      <td>Lago De Três Marias</td>\n      <td>D</td>\n      <td>23223.0</td>\n      <td>Urbano</td>\n      <td>113824.6</td>\n      <td>31002.62</td>\n      <td>172.33</td>\n      <td>86081.41</td>\n      <td>403241.27</td>\n      <td>26994.09</td>\n      <td>430235.36</td>\n      <td>23574.0</td>\n      <td>18250.42</td>\n      <td>Demais serviços</td>\n      <td>NaN</td>\n      <td>621.0</td>\n      <td>18.0</td>\n      <td>1.0</td>\n      <td>40.0</td>\n      <td>0.0</td>\n      <td>1.0</td>\n      <td>20.0</td>\n      <td>303.0</td>\n      <td>62.0</td>\n      <td>30.0</td>\n      <td>9.0</td>\n      <td>6.0</td>\n      <td>4.0</td>\n      <td>28.0</td>\n      <td>27.0</td>\n      <td>2.0</td>\n      <td>15.0</td>\n      <td>19.0</td>\n      <td>9.0</td>\n      <td>27.0</td>\n      <td>0.0</td>\n      <td>0.0</td>\n      <td>NaN</td>\n      <td>NaN</td>\n      <td>2.0</td>\n      <td>2.0</td>\n      <td>2.0</td>\n      <td>2.0</td>\n      <td>44974716.0</td>\n      <td>371922572.0</td>\n      <td>6928.0</td>\n      <td>2953.0</td>\n      <td>0.0</td>\n      <td>NaN</td>\n      <td>NaN</td>\n      <td>NaN</td>\n      <td>4.0</td>\n    </tr>\n    <tr>\n      <th>4</th>\n      <td>Abaetetuba</td>\n      <td>PA</td>\n      <td>0</td>\n      <td>141100.0</td>\n      <td>141040.0</td>\n      <td>60.0</td>\n      <td>31061.0</td>\n      <td>19057.0</td>\n      <td>12004.0</td>\n      <td>82956.0</td>\n      <td>1354.0</td>\n      <td>5567.0</td>\n      <td>7618.0</td>\n      <td>8905.0</td>\n      <td>53516.0</td>\n      <td>5996.0</td>\n      <td>25200.0</td>\n      <td>700872.0</td>\n      <td>3530.0</td>\n      <td>0.628</td>\n      <td>0.579</td>\n      <td>0.798</td>\n      <td>0.537</td>\n      <td>-48.88440382</td>\n      <td>-1.723469863</td>\n      <td>10.12</td>\n      <td>3389.0</td>\n      <td>1218.0</td>\n      <td>1,610.65</td>\n      <td>Araguaia-Tocantins</td>\n      <td>D</td>\n      <td>156292.0</td>\n      <td>Urbano</td>\n      <td>140463.72</td>\n      <td>58610</td>\n      <td>468128.69</td>\n      <td>486872.4</td>\n      <td>1154074.81</td>\n      <td>95180.48</td>\n      <td>1249255.29</td>\n      <td>151934.0</td>\n      <td>8222.36</td>\n      <td>Administração, defesa, educação e saúde públic...</td>\n      <td>NaN</td>\n      <td>931.0</td>\n      <td>4.0</td>\n      <td>2.0</td>\n      <td>43.0</td>\n      <td>0.0</td>\n      <td>1.0</td>\n      <td>27.0</td>\n      <td>500.0</td>\n      <td>16.0</td>\n      <td>31.0</td>\n      <td>6.0</td>\n      <td>1.0</td>\n      <td>1.0</td>\n      <td>22.0</td>\n      <td>16.0</td>\n      <td>2.0</td>\n      <td>155.0</td>\n      <td>33.0</td>\n      <td>15.0</td>\n      <td>56.0</td>\n      <td>0.0</td>\n      <td>0.0</td>\n      <td>NaN</td>\n      <td>NaN</td>\n      <td>2.0</td>\n      <td>4.0</td>\n      <td>2.0</td>\n      <td>4.0</td>\n      <td>76181384.0</td>\n      <td>800078483.0</td>\n      <td>5277.0</td>\n      <td>25661.0</td>\n      <td>0.0</td>\n      <td>NaN</td>\n      <td>NaN</td>\n      <td>NaN</td>\n      <td>2.0</td>\n    </tr>\n  </tbody>\n</table>\n</div>"
     },
     "metadata": {},
     "execution_count": 1
    }
   ],
   "source": [
    "#Usar pca para deixar apenas os 15 principais componentes\n",
    "import pandas as pd\n",
    "pd.set_option('display.max_columns', 81)\n",
    "arquivo = pd.read_csv('/home/stain/Documents/MachineLearning/Datasets/BrazilianCities/BRAZIL_CITIES.csv', sep=';',decimal=',')\n",
    "\n",
    "arquivo.head()"
   ]
  },
  {
   "cell_type": "code",
   "execution_count": 2,
   "metadata": {},
   "outputs": [],
   "source": [
    "arquivo.drop(['CITY', 'IDHM Ranking 2010', 'IDHM_Renda', 'IDHM_Longevidade', 'IDHM_Educacao', 'LONG', 'LAT', 'GVA_MAIN', 'REGIAO_TUR', 'MUN_EXPENDIT', 'HOTELS', 'BEDS', 'Pr_Agencies', 'Pu_Agencies', 'Pr_Bank', 'Pu_Bank', 'Pr_Assets', 'Pu_Assets','UBER','MAC','WAL-MART'], axis=1, inplace=True)"
   ]
  },
  {
   "cell_type": "code",
   "execution_count": 3,
   "metadata": {},
   "outputs": [],
   "source": [
    "arquivo['AREA']= arquivo['AREA'].str.replace(',', '')\n",
    "arquivo['AREA'] = arquivo['AREA'].astype(float)"
   ]
  },
  {
   "cell_type": "code",
   "execution_count": 4,
   "metadata": {},
   "outputs": [
    {
     "output_type": "execute_result",
     "data": {
      "text/plain": [
       "STATE                      object\n",
       "CAPITAL                     int64\n",
       "IBGE_RES_POP              float64\n",
       "IBGE_RES_POP_BRAS         float64\n",
       "IBGE_RES_POP_ESTR         float64\n",
       "IBGE_DU                   float64\n",
       "IBGE_DU_URBAN             float64\n",
       "IBGE_DU_RURAL             float64\n",
       "IBGE_POP                  float64\n",
       "IBGE_1                    float64\n",
       "IBGE_1-4                  float64\n",
       "IBGE_5-9                  float64\n",
       "IBGE_10-14                float64\n",
       "IBGE_15-59                float64\n",
       "IBGE_60+                  float64\n",
       "IBGE_PLANTED_AREA         float64\n",
       "IBGE_CROP_PRODUCTION_$    float64\n",
       "IDHM                       object\n",
       "ALT                        object\n",
       "PAY_TV                    float64\n",
       "FIXED_PHONES              float64\n",
       "AREA                      float64\n",
       "CATEGORIA_TUR              object\n",
       "ESTIMATED_POP             float64\n",
       "RURAL_URBAN                object\n",
       "GVA_AGROPEC                object\n",
       "GVA_INDUSTRY               object\n",
       "GVA_SERVICES               object\n",
       "GVA_PUBLIC                 object\n",
       " GVA_TOTAL                 object\n",
       "TAXES                      object\n",
       "GDP                        object\n",
       "POP_GDP                   float64\n",
       "GDP_CAPITA                 object\n",
       "COMP_TOT                  float64\n",
       "COMP_A                    float64\n",
       "COMP_B                    float64\n",
       "COMP_C                    float64\n",
       "COMP_D                    float64\n",
       "COMP_E                    float64\n",
       "COMP_F                    float64\n",
       "COMP_G                    float64\n",
       "COMP_H                    float64\n",
       "COMP_I                    float64\n",
       "COMP_J                    float64\n",
       "COMP_K                    float64\n",
       "COMP_L                    float64\n",
       "COMP_M                    float64\n",
       "COMP_N                    float64\n",
       "COMP_O                    float64\n",
       "COMP_P                    float64\n",
       "COMP_Q                    float64\n",
       "COMP_R                    float64\n",
       "COMP_S                    float64\n",
       "COMP_T                    float64\n",
       "COMP_U                    float64\n",
       "Cars                      float64\n",
       "Motorcycles               float64\n",
       "Wheeled_tractor           float64\n",
       "POST_OFFICES              float64\n",
       "dtype: object"
      ]
     },
     "metadata": {},
     "execution_count": 4
    }
   ],
   "source": [
    "arquivo.dtypes"
   ]
  },
  {
   "cell_type": "code",
   "execution_count": 5,
   "metadata": {},
   "outputs": [
    {
     "output_type": "execute_result",
     "data": {
      "text/plain": [
       "   CAPITAL  IBGE_RES_POP  IBGE_RES_POP_BRAS  IBGE_RES_POP_ESTR  IBGE_DU  \\\n",
       "0        0        6876.0             6876.0                0.0   2137.0   \n",
       "1        0        6704.0             6704.0                0.0   2328.0   \n",
       "2        0       15757.0            15609.0              148.0   4655.0   \n",
       "3        0       22690.0            22690.0                0.0   7694.0   \n",
       "4        0      141100.0           141040.0               60.0  31061.0   \n",
       "\n",
       "   IBGE_DU_URBAN  IBGE_DU_RURAL  IBGE_POP  IBGE_1  IBGE_1-4  IBGE_5-9  \\\n",
       "0         1546.0          591.0    5300.0    69.0     318.0     438.0   \n",
       "1         1481.0          847.0    4154.0    38.0     207.0     260.0   \n",
       "2         3233.0         1422.0   10656.0   139.0     650.0     894.0   \n",
       "3         6667.0         1027.0   18464.0   176.0     856.0    1233.0   \n",
       "4        19057.0        12004.0   82956.0  1354.0    5567.0    7618.0   \n",
       "\n",
       "   IBGE_10-14  IBGE_15-59  IBGE_60+  IBGE_PLANTED_AREA  \\\n",
       "0       517.0      3542.0     416.0              319.0   \n",
       "1       351.0      2709.0     589.0             4479.0   \n",
       "2      1087.0      6896.0     990.0            10307.0   \n",
       "3      1539.0     11979.0    2681.0             1862.0   \n",
       "4      8905.0     53516.0    5996.0            25200.0   \n",
       "\n",
       "   IBGE_CROP_PRODUCTION_$   IDHM      ALT  PAY_TV  FIXED_PHONES     AREA  \\\n",
       "0                  1843.0  0.708    893.6   360.0         842.0   147.26   \n",
       "1                 18017.0   0.69   753.12    77.0         296.0   881.06   \n",
       "2                 33085.0   0.69  1017.55   227.0         720.0  1045.13   \n",
       "3                  7502.0  0.698   644.74  1230.0        1716.0  1817.07   \n",
       "4                700872.0  0.628    10.12  3389.0        1218.0  1610.65   \n",
       "\n",
       "   ESTIMATED_POP GVA_AGROPEC GVA_INDUSTRY GVA_SERVICES GVA_PUBLIC  GVA_TOTAL   \\\n",
       "0         8583.0         6.2     27991.25     74750.32   36915.04    145857.6   \n",
       "1         6972.0    50524.57      25917.7     62689.23   28083.79   167215.28   \n",
       "2        19614.0       42.84      16728.3    138198.58    63396.2   261161.91   \n",
       "3        23223.0    113824.6     31002.62       172.33   86081.41   403241.27   \n",
       "4       156292.0   140463.72        58610    468128.69   486872.4  1154074.81   \n",
       "\n",
       "      TAXES         GDP   POP_GDP GDP_CAPITA  COMP_TOT  COMP_A  COMP_B  \\\n",
       "0   20554.2      166.41    8053.0   20664.57     284.0     5.0     1.0   \n",
       "1   12873.5      180.09    7037.0    25591.7     476.0     6.0     6.0   \n",
       "2  26822.58   287984.49   18427.0    15628.4     288.0     5.0     9.0   \n",
       "3  26994.09   430235.36   23574.0   18250.42     621.0    18.0     1.0   \n",
       "4  95180.48  1249255.29  151934.0    8222.36     931.0     4.0     2.0   \n",
       "\n",
       "   COMP_C  COMP_D  COMP_E  COMP_F  COMP_G  COMP_H  ...  Wheeled_tractor  \\\n",
       "0    56.0     0.0     2.0    29.0   110.0    26.0  ...              0.0   \n",
       "1    30.0     1.0     2.0    34.0   190.0    70.0  ...              0.0   \n",
       "2    26.0     0.0     2.0     7.0   117.0    12.0  ...              0.0   \n",
       "3    40.0     0.0     1.0    20.0   303.0    62.0  ...              0.0   \n",
       "4    43.0     0.0     1.0    27.0   500.0    16.0  ...              0.0   \n",
       "\n",
       "   POST_OFFICES  AC  AL  AM  AP  BA  CE  DF  ES  GO  MA  MG  MS  MT  PA  PB  \\\n",
       "0           1.0   0   0   0   0   0   0   0   0   1   0   0   0   0   0   0   \n",
       "1           1.0   0   0   0   0   0   0   0   0   0   0   1   0   0   0   0   \n",
       "2           3.0   0   0   0   0   0   0   0   0   1   0   0   0   0   0   0   \n",
       "3           4.0   0   0   0   0   0   0   0   0   0   0   1   0   0   0   0   \n",
       "4           2.0   0   0   0   0   0   0   0   0   0   0   0   0   0   1   0   \n",
       "\n",
       "   PE  PI  PR  RJ  RN  RO  RR  RS  SC  SE  SP  TO  Intermediário Adjacente  \\\n",
       "0   0   0   0   0   0   0   0   0   0   0   0   0                        0   \n",
       "1   0   0   0   0   0   0   0   0   0   0   0   0                        0   \n",
       "2   0   0   0   0   0   0   0   0   0   0   0   0                        0   \n",
       "3   0   0   0   0   0   0   0   0   0   0   0   0                        0   \n",
       "4   0   0   0   0   0   0   0   0   0   0   0   0                        0   \n",
       "\n",
       "   Intermediário Remoto  Rural Adjacente  Rural Remoto  Sem classificação  \\\n",
       "0                     0                0             0                  0   \n",
       "1                     0                1             0                  0   \n",
       "2                     0                1             0                  0   \n",
       "3                     0                0             0                  0   \n",
       "4                     0                0             0                  0   \n",
       "\n",
       "   Urbano  A  B  C  D  E  \n",
       "0       1  0  0  0  0  0  \n",
       "1       0  0  0  0  1  0  \n",
       "2       0  0  0  1  0  0  \n",
       "3       1  0  0  0  1  0  \n",
       "4       1  0  0  0  1  0  \n",
       "\n",
       "[5 rows x 95 columns]"
      ],
      "text/html": "<div>\n<style scoped>\n    .dataframe tbody tr th:only-of-type {\n        vertical-align: middle;\n    }\n\n    .dataframe tbody tr th {\n        vertical-align: top;\n    }\n\n    .dataframe thead th {\n        text-align: right;\n    }\n</style>\n<table border=\"1\" class=\"dataframe\">\n  <thead>\n    <tr style=\"text-align: right;\">\n      <th></th>\n      <th>CAPITAL</th>\n      <th>IBGE_RES_POP</th>\n      <th>IBGE_RES_POP_BRAS</th>\n      <th>IBGE_RES_POP_ESTR</th>\n      <th>IBGE_DU</th>\n      <th>IBGE_DU_URBAN</th>\n      <th>IBGE_DU_RURAL</th>\n      <th>IBGE_POP</th>\n      <th>IBGE_1</th>\n      <th>IBGE_1-4</th>\n      <th>IBGE_5-9</th>\n      <th>IBGE_10-14</th>\n      <th>IBGE_15-59</th>\n      <th>IBGE_60+</th>\n      <th>IBGE_PLANTED_AREA</th>\n      <th>IBGE_CROP_PRODUCTION_$</th>\n      <th>IDHM</th>\n      <th>ALT</th>\n      <th>PAY_TV</th>\n      <th>FIXED_PHONES</th>\n      <th>AREA</th>\n      <th>ESTIMATED_POP</th>\n      <th>GVA_AGROPEC</th>\n      <th>GVA_INDUSTRY</th>\n      <th>GVA_SERVICES</th>\n      <th>GVA_PUBLIC</th>\n      <th>GVA_TOTAL</th>\n      <th>TAXES</th>\n      <th>GDP</th>\n      <th>POP_GDP</th>\n      <th>GDP_CAPITA</th>\n      <th>COMP_TOT</th>\n      <th>COMP_A</th>\n      <th>COMP_B</th>\n      <th>COMP_C</th>\n      <th>COMP_D</th>\n      <th>COMP_E</th>\n      <th>COMP_F</th>\n      <th>COMP_G</th>\n      <th>COMP_H</th>\n      <th>...</th>\n      <th>Wheeled_tractor</th>\n      <th>POST_OFFICES</th>\n      <th>AC</th>\n      <th>AL</th>\n      <th>AM</th>\n      <th>AP</th>\n      <th>BA</th>\n      <th>CE</th>\n      <th>DF</th>\n      <th>ES</th>\n      <th>GO</th>\n      <th>MA</th>\n      <th>MG</th>\n      <th>MS</th>\n      <th>MT</th>\n      <th>PA</th>\n      <th>PB</th>\n      <th>PE</th>\n      <th>PI</th>\n      <th>PR</th>\n      <th>RJ</th>\n      <th>RN</th>\n      <th>RO</th>\n      <th>RR</th>\n      <th>RS</th>\n      <th>SC</th>\n      <th>SE</th>\n      <th>SP</th>\n      <th>TO</th>\n      <th>Intermediário Adjacente</th>\n      <th>Intermediário Remoto</th>\n      <th>Rural Adjacente</th>\n      <th>Rural Remoto</th>\n      <th>Sem classificação</th>\n      <th>Urbano</th>\n      <th>A</th>\n      <th>B</th>\n      <th>C</th>\n      <th>D</th>\n      <th>E</th>\n    </tr>\n  </thead>\n  <tbody>\n    <tr>\n      <th>0</th>\n      <td>0</td>\n      <td>6876.0</td>\n      <td>6876.0</td>\n      <td>0.0</td>\n      <td>2137.0</td>\n      <td>1546.0</td>\n      <td>591.0</td>\n      <td>5300.0</td>\n      <td>69.0</td>\n      <td>318.0</td>\n      <td>438.0</td>\n      <td>517.0</td>\n      <td>3542.0</td>\n      <td>416.0</td>\n      <td>319.0</td>\n      <td>1843.0</td>\n      <td>0.708</td>\n      <td>893.6</td>\n      <td>360.0</td>\n      <td>842.0</td>\n      <td>147.26</td>\n      <td>8583.0</td>\n      <td>6.2</td>\n      <td>27991.25</td>\n      <td>74750.32</td>\n      <td>36915.04</td>\n      <td>145857.6</td>\n      <td>20554.2</td>\n      <td>166.41</td>\n      <td>8053.0</td>\n      <td>20664.57</td>\n      <td>284.0</td>\n      <td>5.0</td>\n      <td>1.0</td>\n      <td>56.0</td>\n      <td>0.0</td>\n      <td>2.0</td>\n      <td>29.0</td>\n      <td>110.0</td>\n      <td>26.0</td>\n      <td>...</td>\n      <td>0.0</td>\n      <td>1.0</td>\n      <td>0</td>\n      <td>0</td>\n      <td>0</td>\n      <td>0</td>\n      <td>0</td>\n      <td>0</td>\n      <td>0</td>\n      <td>0</td>\n      <td>1</td>\n      <td>0</td>\n      <td>0</td>\n      <td>0</td>\n      <td>0</td>\n      <td>0</td>\n      <td>0</td>\n      <td>0</td>\n      <td>0</td>\n      <td>0</td>\n      <td>0</td>\n      <td>0</td>\n      <td>0</td>\n      <td>0</td>\n      <td>0</td>\n      <td>0</td>\n      <td>0</td>\n      <td>0</td>\n      <td>0</td>\n      <td>0</td>\n      <td>0</td>\n      <td>0</td>\n      <td>0</td>\n      <td>0</td>\n      <td>1</td>\n      <td>0</td>\n      <td>0</td>\n      <td>0</td>\n      <td>0</td>\n      <td>0</td>\n    </tr>\n    <tr>\n      <th>1</th>\n      <td>0</td>\n      <td>6704.0</td>\n      <td>6704.0</td>\n      <td>0.0</td>\n      <td>2328.0</td>\n      <td>1481.0</td>\n      <td>847.0</td>\n      <td>4154.0</td>\n      <td>38.0</td>\n      <td>207.0</td>\n      <td>260.0</td>\n      <td>351.0</td>\n      <td>2709.0</td>\n      <td>589.0</td>\n      <td>4479.0</td>\n      <td>18017.0</td>\n      <td>0.69</td>\n      <td>753.12</td>\n      <td>77.0</td>\n      <td>296.0</td>\n      <td>881.06</td>\n      <td>6972.0</td>\n      <td>50524.57</td>\n      <td>25917.7</td>\n      <td>62689.23</td>\n      <td>28083.79</td>\n      <td>167215.28</td>\n      <td>12873.5</td>\n      <td>180.09</td>\n      <td>7037.0</td>\n      <td>25591.7</td>\n      <td>476.0</td>\n      <td>6.0</td>\n      <td>6.0</td>\n      <td>30.0</td>\n      <td>1.0</td>\n      <td>2.0</td>\n      <td>34.0</td>\n      <td>190.0</td>\n      <td>70.0</td>\n      <td>...</td>\n      <td>0.0</td>\n      <td>1.0</td>\n      <td>0</td>\n      <td>0</td>\n      <td>0</td>\n      <td>0</td>\n      <td>0</td>\n      <td>0</td>\n      <td>0</td>\n      <td>0</td>\n      <td>0</td>\n      <td>0</td>\n      <td>1</td>\n      <td>0</td>\n      <td>0</td>\n      <td>0</td>\n      <td>0</td>\n      <td>0</td>\n      <td>0</td>\n      <td>0</td>\n      <td>0</td>\n      <td>0</td>\n      <td>0</td>\n      <td>0</td>\n      <td>0</td>\n      <td>0</td>\n      <td>0</td>\n      <td>0</td>\n      <td>0</td>\n      <td>0</td>\n      <td>0</td>\n      <td>1</td>\n      <td>0</td>\n      <td>0</td>\n      <td>0</td>\n      <td>0</td>\n      <td>0</td>\n      <td>0</td>\n      <td>1</td>\n      <td>0</td>\n    </tr>\n    <tr>\n      <th>2</th>\n      <td>0</td>\n      <td>15757.0</td>\n      <td>15609.0</td>\n      <td>148.0</td>\n      <td>4655.0</td>\n      <td>3233.0</td>\n      <td>1422.0</td>\n      <td>10656.0</td>\n      <td>139.0</td>\n      <td>650.0</td>\n      <td>894.0</td>\n      <td>1087.0</td>\n      <td>6896.0</td>\n      <td>990.0</td>\n      <td>10307.0</td>\n      <td>33085.0</td>\n      <td>0.69</td>\n      <td>1017.55</td>\n      <td>227.0</td>\n      <td>720.0</td>\n      <td>1045.13</td>\n      <td>19614.0</td>\n      <td>42.84</td>\n      <td>16728.3</td>\n      <td>138198.58</td>\n      <td>63396.2</td>\n      <td>261161.91</td>\n      <td>26822.58</td>\n      <td>287984.49</td>\n      <td>18427.0</td>\n      <td>15628.4</td>\n      <td>288.0</td>\n      <td>5.0</td>\n      <td>9.0</td>\n      <td>26.0</td>\n      <td>0.0</td>\n      <td>2.0</td>\n      <td>7.0</td>\n      <td>117.0</td>\n      <td>12.0</td>\n      <td>...</td>\n      <td>0.0</td>\n      <td>3.0</td>\n      <td>0</td>\n      <td>0</td>\n      <td>0</td>\n      <td>0</td>\n      <td>0</td>\n      <td>0</td>\n      <td>0</td>\n      <td>0</td>\n      <td>1</td>\n      <td>0</td>\n      <td>0</td>\n      <td>0</td>\n      <td>0</td>\n      <td>0</td>\n      <td>0</td>\n      <td>0</td>\n      <td>0</td>\n      <td>0</td>\n      <td>0</td>\n      <td>0</td>\n      <td>0</td>\n      <td>0</td>\n      <td>0</td>\n      <td>0</td>\n      <td>0</td>\n      <td>0</td>\n      <td>0</td>\n      <td>0</td>\n      <td>0</td>\n      <td>1</td>\n      <td>0</td>\n      <td>0</td>\n      <td>0</td>\n      <td>0</td>\n      <td>0</td>\n      <td>1</td>\n      <td>0</td>\n      <td>0</td>\n    </tr>\n    <tr>\n      <th>3</th>\n      <td>0</td>\n      <td>22690.0</td>\n      <td>22690.0</td>\n      <td>0.0</td>\n      <td>7694.0</td>\n      <td>6667.0</td>\n      <td>1027.0</td>\n      <td>18464.0</td>\n      <td>176.0</td>\n      <td>856.0</td>\n      <td>1233.0</td>\n      <td>1539.0</td>\n      <td>11979.0</td>\n      <td>2681.0</td>\n      <td>1862.0</td>\n      <td>7502.0</td>\n      <td>0.698</td>\n      <td>644.74</td>\n      <td>1230.0</td>\n      <td>1716.0</td>\n      <td>1817.07</td>\n      <td>23223.0</td>\n      <td>113824.6</td>\n      <td>31002.62</td>\n      <td>172.33</td>\n      <td>86081.41</td>\n      <td>403241.27</td>\n      <td>26994.09</td>\n      <td>430235.36</td>\n      <td>23574.0</td>\n      <td>18250.42</td>\n      <td>621.0</td>\n      <td>18.0</td>\n      <td>1.0</td>\n      <td>40.0</td>\n      <td>0.0</td>\n      <td>1.0</td>\n      <td>20.0</td>\n      <td>303.0</td>\n      <td>62.0</td>\n      <td>...</td>\n      <td>0.0</td>\n      <td>4.0</td>\n      <td>0</td>\n      <td>0</td>\n      <td>0</td>\n      <td>0</td>\n      <td>0</td>\n      <td>0</td>\n      <td>0</td>\n      <td>0</td>\n      <td>0</td>\n      <td>0</td>\n      <td>1</td>\n      <td>0</td>\n      <td>0</td>\n      <td>0</td>\n      <td>0</td>\n      <td>0</td>\n      <td>0</td>\n      <td>0</td>\n      <td>0</td>\n      <td>0</td>\n      <td>0</td>\n      <td>0</td>\n      <td>0</td>\n      <td>0</td>\n      <td>0</td>\n      <td>0</td>\n      <td>0</td>\n      <td>0</td>\n      <td>0</td>\n      <td>0</td>\n      <td>0</td>\n      <td>0</td>\n      <td>1</td>\n      <td>0</td>\n      <td>0</td>\n      <td>0</td>\n      <td>1</td>\n      <td>0</td>\n    </tr>\n    <tr>\n      <th>4</th>\n      <td>0</td>\n      <td>141100.0</td>\n      <td>141040.0</td>\n      <td>60.0</td>\n      <td>31061.0</td>\n      <td>19057.0</td>\n      <td>12004.0</td>\n      <td>82956.0</td>\n      <td>1354.0</td>\n      <td>5567.0</td>\n      <td>7618.0</td>\n      <td>8905.0</td>\n      <td>53516.0</td>\n      <td>5996.0</td>\n      <td>25200.0</td>\n      <td>700872.0</td>\n      <td>0.628</td>\n      <td>10.12</td>\n      <td>3389.0</td>\n      <td>1218.0</td>\n      <td>1610.65</td>\n      <td>156292.0</td>\n      <td>140463.72</td>\n      <td>58610</td>\n      <td>468128.69</td>\n      <td>486872.4</td>\n      <td>1154074.81</td>\n      <td>95180.48</td>\n      <td>1249255.29</td>\n      <td>151934.0</td>\n      <td>8222.36</td>\n      <td>931.0</td>\n      <td>4.0</td>\n      <td>2.0</td>\n      <td>43.0</td>\n      <td>0.0</td>\n      <td>1.0</td>\n      <td>27.0</td>\n      <td>500.0</td>\n      <td>16.0</td>\n      <td>...</td>\n      <td>0.0</td>\n      <td>2.0</td>\n      <td>0</td>\n      <td>0</td>\n      <td>0</td>\n      <td>0</td>\n      <td>0</td>\n      <td>0</td>\n      <td>0</td>\n      <td>0</td>\n      <td>0</td>\n      <td>0</td>\n      <td>0</td>\n      <td>0</td>\n      <td>0</td>\n      <td>1</td>\n      <td>0</td>\n      <td>0</td>\n      <td>0</td>\n      <td>0</td>\n      <td>0</td>\n      <td>0</td>\n      <td>0</td>\n      <td>0</td>\n      <td>0</td>\n      <td>0</td>\n      <td>0</td>\n      <td>0</td>\n      <td>0</td>\n      <td>0</td>\n      <td>0</td>\n      <td>0</td>\n      <td>0</td>\n      <td>0</td>\n      <td>1</td>\n      <td>0</td>\n      <td>0</td>\n      <td>0</td>\n      <td>1</td>\n      <td>0</td>\n    </tr>\n  </tbody>\n</table>\n<p>5 rows × 95 columns</p>\n</div>"
     },
     "metadata": {},
     "execution_count": 5
    }
   ],
   "source": [
    "state_encode = pd.get_dummies(arquivo['STATE'])\n",
    "rural_encode = pd.get_dummies(arquivo['RURAL_URBAN'])\n",
    "categoria_encode = pd.get_dummies(arquivo['CATEGORIA_TUR'])\n",
    "arquivo.drop(['STATE','RURAL_URBAN', 'CATEGORIA_TUR'], axis = 1, inplace = True)\n",
    "\n",
    "concatenado = pd.concat([arquivo, state_encode, rural_encode, categoria_encode], axis = 1)\n",
    "concatenado.head()"
   ]
  },
  {
   "cell_type": "code",
   "execution_count": 6,
   "metadata": {},
   "outputs": [
    {
     "output_type": "stream",
     "name": "stdout",
     "text": [
      "CAPITAL              0.000000\nIBGE_RES_POP         0.143549\nIBGE_RES_POP_BRAS    0.143549\nIBGE_RES_POP_ESTR    0.143549\nIBGE_DU              0.179437\n                       ...   \nA                    0.000000\nB                    0.000000\nC                    0.000000\nD                    0.000000\nE                    0.000000\nLength: 95, dtype: float64\n"
     ]
    }
   ],
   "source": [
    "faltantes = concatenado.isnull().sum()\n",
    "print((faltantes / len(concatenado)) * 100)"
   ]
  },
  {
   "cell_type": "code",
   "execution_count": 7,
   "metadata": {},
   "outputs": [],
   "source": [
    "novoArq = concatenado.dropna()"
   ]
  },
  {
   "cell_type": "code",
   "execution_count": 8,
   "metadata": {},
   "outputs": [],
   "source": [
    "y = novoArq['IDHM']\n",
    "x = novoArq.drop('IDHM', axis = 1)"
   ]
  },
  {
   "cell_type": "code",
   "execution_count": 9,
   "metadata": {},
   "outputs": [],
   "source": [
    "from sklearn.preprocessing import MinMaxScaler\n",
    "from sklearn.decomposition import PCA\n",
    "\n",
    "normalizador = MinMaxScaler(feature_range=(0,1))\n",
    "x_norm = normalizador.fit_transform(x)\n",
    "\n",
    "pca = PCA(n_components = 15)\n",
    "x_pca = pca.fit_transform(x_norm)\n"
   ]
  },
  {
   "cell_type": "code",
   "execution_count": 10,
   "metadata": {},
   "outputs": [
    {
     "output_type": "stream",
     "name": "stdout",
     "text": [
      "0.8024550894453483\n"
     ]
    }
   ],
   "source": [
    "from sklearn.ensemble import RandomForestRegressor\n",
    "from sklearn.model_selection import KFold, cross_val_score\n",
    "\n",
    "# Definindo o número de árvores\n",
    "modelo = RandomForestRegressor(n_estimators = 100, n_jobs = -1)\n",
    "kfold = KFold(n_splits=3)\n",
    "\n",
    "resultado = cross_val_score(modelo, x_pca, y, cv = kfold, n_jobs = -1)\n",
    "print(resultado.mean())"
   ]
  },
  {
   "cell_type": "code",
   "execution_count": 11,
   "metadata": {},
   "outputs": [
    {
     "output_type": "stream",
     "name": "stdout",
     "text": [
      "Mínimo split 2\nMaxima profundidade 16\nMínimo leaf 4\nR2 0.808484361397788\n"
     ]
    }
   ],
   "source": [
    "import numpy as np\n",
    "from sklearn.model_selection import GridSearchCV\n",
    "\n",
    "min_split = np.array([2,4,8])\n",
    "max_nivel = np.array([3,6,10,14,16])\n",
    "min_leaf = np.array([1,3,4,6])\n",
    "valores_gird = {'min_samples_split': min_split, 'max_depth': max_nivel, 'min_samples_leaf': min_leaf}\n",
    "\n",
    "modelo = RandomForestRegressor(n_estimators = 100, n_jobs =-1)\n",
    "\n",
    "gridRandomForest = GridSearchCV(estimator = modelo, param_grid=valores_gird, cv = 3, n_jobs =-1)\n",
    "gridRandomForest.fit(x_pca, y)\n",
    "\n",
    "print('Mínimo split', gridRandomForest.best_estimator_.min_samples_split)\n",
    "print('Maxima profundidade', gridRandomForest.best_estimator_.max_depth)\n",
    "print('Mínimo leaf', gridRandomForest.best_estimator_.min_samples_leaf)\n",
    "print('R2', gridRandomForest.best_score_)"
   ]
  }
 ]
}